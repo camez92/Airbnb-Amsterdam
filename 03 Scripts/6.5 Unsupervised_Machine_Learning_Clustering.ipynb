{
 "cells": [
  {
   "cell_type": "markdown",
   "id": "e5f38c4f",
   "metadata": {},
   "source": [
    "# 6.5 Machine Learning"
   ]
  },
  {
   "cell_type": "markdown",
   "id": "6a860419",
   "metadata": {},
   "source": [
    "### This script contains the following:\n",
    "\n",
    "#### 1. Importing libraries and data and dropping columns\n",
    "#### 2. The elbow technique\n",
    "#### 3. k-means clustering"
   ]
  },
  {
   "cell_type": "markdown",
   "id": "6edb35e3",
   "metadata": {},
   "source": [
    "#### 1. Importing libraries and data and dropping columns"
   ]
  },
  {
   "cell_type": "code",
   "execution_count": 8,
   "id": "214e6bde",
   "metadata": {},
   "outputs": [],
   "source": [
    "import pandas as pd\n",
    "import numpy as np\n",
    "import seaborn as sns\n",
    "import matplotlib\n",
    "import matplotlib.pyplot as plt\n",
    "import os\n",
    "import sklearn\n",
    "from sklearn.cluster import KMeans # Here is where you import the k-means algorithm from scikit-learn.\n",
    "import pylab as pl # PyLab is a convenience module that bulk imports matplotlib."
   ]
  },
  {
   "cell_type": "code",
   "execution_count": 2,
   "id": "a4d2d689",
   "metadata": {},
   "outputs": [],
   "source": [
    "# This option ensures the graphs you create are displayed in your notebook without the need to \"call\" them specifically.\n",
    "\n",
    "%matplotlib inline"
   ]
  },
  {
   "cell_type": "code",
   "execution_count": 3,
   "id": "7e6d3d7f",
   "metadata": {},
   "outputs": [],
   "source": [
    "# Define path\n",
    "\n",
    "path = r'C:\\Users\\H539822\\Desktop\\Airbnb_Amsterdam'"
   ]
  },
  {
   "cell_type": "code",
   "execution_count": 4,
   "id": "f684bf9d",
   "metadata": {},
   "outputs": [],
   "source": [
    "# Import .csv\n",
    "\n",
    "listings_merge = pd.read_csv(os.path.join(path, 'listings_merge.csv'))"
   ]
  },
  {
   "cell_type": "code",
   "execution_count": 5,
   "id": "0e306213",
   "metadata": {},
   "outputs": [
    {
     "data": {
      "text/plain": [
       "(20030, 35)"
      ]
     },
     "execution_count": 5,
     "metadata": {},
     "output_type": "execute_result"
    }
   ],
   "source": [
    "listings_merge.shape"
   ]
  },
  {
   "cell_type": "code",
   "execution_count": 13,
   "id": "f58f19e6",
   "metadata": {},
   "outputs": [
    {
     "data": {
      "text/plain": [
       "Index(['id', 'name', 'host_id', 'host_name', 'neighbourhood', 'latitude',\n",
       "       'longitude', 'room_type', 'price', 'minimum_nights',\n",
       "       'number_of_reviews', 'last_review', 'reviews_per_month',\n",
       "       'calculated_host_listings_count', 'availability_365', 'property_type',\n",
       "       'accommodates', 'maximum_nights', 'listing_url', 'host_is_superhost',\n",
       "       'host_about', 'host_response_time', 'host_response_rate', 'street',\n",
       "       'weekly_price', 'monthly_price', 'market'],\n",
       "      dtype='object')"
      ]
     },
     "execution_count": 13,
     "metadata": {},
     "output_type": "execute_result"
    }
   ],
   "source": [
    "listings_merge.columns"
   ]
  },
  {
   "cell_type": "code",
   "execution_count": 22,
   "id": "8385e870",
   "metadata": {},
   "outputs": [],
   "source": [
    "listings_merge = listings_merge.drop(columns = ['host_response_time', 'last_review','host_is_superhost', 'host_about', 'market','name', 'host_name', 'neighbourhood', 'room_type', 'property_type', 'listing_url', 'street', 'first_review', 'review_scores_value', 'review_scores_cleanliness', 'review_scores_location', 'review_scores_accuracy', 'review_scores_communication', 'review_scores_checkin', 'review_scores_rating'])"
   ]
  },
  {
   "cell_type": "code",
   "execution_count": 26,
   "id": "ae117706",
   "metadata": {},
   "outputs": [],
   "source": [
    "listings_merge = listings_merge.drop(columns = ['weekly_price', 'monthly_price'])"
   ]
  },
  {
   "cell_type": "code",
   "execution_count": 31,
   "id": "f426d4b9",
   "metadata": {},
   "outputs": [],
   "source": [
    "listings_merge = listings_merge.drop(columns = ['host_response_rate'])"
   ]
  },
  {
   "cell_type": "code",
   "execution_count": 32,
   "id": "cbc7b978",
   "metadata": {},
   "outputs": [
    {
     "data": {
      "text/html": [
       "<div>\n",
       "<style scoped>\n",
       "    .dataframe tbody tr th:only-of-type {\n",
       "        vertical-align: middle;\n",
       "    }\n",
       "\n",
       "    .dataframe tbody tr th {\n",
       "        vertical-align: top;\n",
       "    }\n",
       "\n",
       "    .dataframe thead th {\n",
       "        text-align: right;\n",
       "    }\n",
       "</style>\n",
       "<table border=\"1\" class=\"dataframe\">\n",
       "  <thead>\n",
       "    <tr style=\"text-align: right;\">\n",
       "      <th></th>\n",
       "      <th>id</th>\n",
       "      <th>host_id</th>\n",
       "      <th>latitude</th>\n",
       "      <th>longitude</th>\n",
       "      <th>price</th>\n",
       "      <th>minimum_nights</th>\n",
       "      <th>number_of_reviews</th>\n",
       "      <th>reviews_per_month</th>\n",
       "      <th>calculated_host_listings_count</th>\n",
       "      <th>availability_365</th>\n",
       "      <th>accommodates</th>\n",
       "      <th>maximum_nights</th>\n",
       "    </tr>\n",
       "  </thead>\n",
       "  <tbody>\n",
       "    <tr>\n",
       "      <th>0</th>\n",
       "      <td>2818</td>\n",
       "      <td>3159</td>\n",
       "      <td>52.365755</td>\n",
       "      <td>4.941419</td>\n",
       "      <td>59</td>\n",
       "      <td>3</td>\n",
       "      <td>248</td>\n",
       "      <td>2.10</td>\n",
       "      <td>1</td>\n",
       "      <td>44</td>\n",
       "      <td>2</td>\n",
       "      <td>15</td>\n",
       "    </tr>\n",
       "    <tr>\n",
       "      <th>1</th>\n",
       "      <td>3209</td>\n",
       "      <td>3806</td>\n",
       "      <td>52.390225</td>\n",
       "      <td>4.873924</td>\n",
       "      <td>160</td>\n",
       "      <td>4</td>\n",
       "      <td>42</td>\n",
       "      <td>1.03</td>\n",
       "      <td>1</td>\n",
       "      <td>47</td>\n",
       "      <td>5</td>\n",
       "      <td>20</td>\n",
       "    </tr>\n",
       "    <tr>\n",
       "      <th>2</th>\n",
       "      <td>20168</td>\n",
       "      <td>59484</td>\n",
       "      <td>52.365087</td>\n",
       "      <td>4.893541</td>\n",
       "      <td>80</td>\n",
       "      <td>1</td>\n",
       "      <td>233</td>\n",
       "      <td>2.18</td>\n",
       "      <td>2</td>\n",
       "      <td>198</td>\n",
       "      <td>2</td>\n",
       "      <td>1000</td>\n",
       "    </tr>\n",
       "    <tr>\n",
       "      <th>3</th>\n",
       "      <td>25428</td>\n",
       "      <td>56142</td>\n",
       "      <td>52.373114</td>\n",
       "      <td>4.883668</td>\n",
       "      <td>125</td>\n",
       "      <td>14</td>\n",
       "      <td>1</td>\n",
       "      <td>0.09</td>\n",
       "      <td>2</td>\n",
       "      <td>141</td>\n",
       "      <td>3</td>\n",
       "      <td>60</td>\n",
       "    </tr>\n",
       "    <tr>\n",
       "      <th>4</th>\n",
       "      <td>27886</td>\n",
       "      <td>97647</td>\n",
       "      <td>52.386727</td>\n",
       "      <td>4.892078</td>\n",
       "      <td>150</td>\n",
       "      <td>2</td>\n",
       "      <td>171</td>\n",
       "      <td>2.03</td>\n",
       "      <td>1</td>\n",
       "      <td>199</td>\n",
       "      <td>2</td>\n",
       "      <td>730</td>\n",
       "    </tr>\n",
       "    <tr>\n",
       "      <th>...</th>\n",
       "      <td>...</td>\n",
       "      <td>...</td>\n",
       "      <td>...</td>\n",
       "      <td>...</td>\n",
       "      <td>...</td>\n",
       "      <td>...</td>\n",
       "      <td>...</td>\n",
       "      <td>...</td>\n",
       "      <td>...</td>\n",
       "      <td>...</td>\n",
       "      <td>...</td>\n",
       "      <td>...</td>\n",
       "    </tr>\n",
       "    <tr>\n",
       "      <th>20025</th>\n",
       "      <td>30576148</td>\n",
       "      <td>13399651</td>\n",
       "      <td>52.345999</td>\n",
       "      <td>4.952145</td>\n",
       "      <td>340</td>\n",
       "      <td>7</td>\n",
       "      <td>0</td>\n",
       "      <td>0.00</td>\n",
       "      <td>1</td>\n",
       "      <td>11</td>\n",
       "      <td>4</td>\n",
       "      <td>12</td>\n",
       "    </tr>\n",
       "    <tr>\n",
       "      <th>20026</th>\n",
       "      <td>30577727</td>\n",
       "      <td>1595885</td>\n",
       "      <td>52.362412</td>\n",
       "      <td>4.932467</td>\n",
       "      <td>150</td>\n",
       "      <td>3</td>\n",
       "      <td>0</td>\n",
       "      <td>0.00</td>\n",
       "      <td>2</td>\n",
       "      <td>16</td>\n",
       "      <td>3</td>\n",
       "      <td>14</td>\n",
       "    </tr>\n",
       "    <tr>\n",
       "      <th>20027</th>\n",
       "      <td>30578037</td>\n",
       "      <td>87866499</td>\n",
       "      <td>52.362431</td>\n",
       "      <td>4.926912</td>\n",
       "      <td>80</td>\n",
       "      <td>10</td>\n",
       "      <td>0</td>\n",
       "      <td>0.00</td>\n",
       "      <td>2</td>\n",
       "      <td>210</td>\n",
       "      <td>2</td>\n",
       "      <td>22</td>\n",
       "    </tr>\n",
       "    <tr>\n",
       "      <th>20028</th>\n",
       "      <td>30579673</td>\n",
       "      <td>1595885</td>\n",
       "      <td>52.363780</td>\n",
       "      <td>4.932493</td>\n",
       "      <td>55</td>\n",
       "      <td>2</td>\n",
       "      <td>0</td>\n",
       "      <td>0.00</td>\n",
       "      <td>2</td>\n",
       "      <td>31</td>\n",
       "      <td>2</td>\n",
       "      <td>15</td>\n",
       "    </tr>\n",
       "    <tr>\n",
       "      <th>20029</th>\n",
       "      <td>30580413</td>\n",
       "      <td>27212057</td>\n",
       "      <td>52.346911</td>\n",
       "      <td>4.901932</td>\n",
       "      <td>220</td>\n",
       "      <td>5</td>\n",
       "      <td>0</td>\n",
       "      <td>0.00</td>\n",
       "      <td>1</td>\n",
       "      <td>14</td>\n",
       "      <td>4</td>\n",
       "      <td>1125</td>\n",
       "    </tr>\n",
       "  </tbody>\n",
       "</table>\n",
       "<p>20030 rows × 12 columns</p>\n",
       "</div>"
      ],
      "text/plain": [
       "             id   host_id   latitude  longitude  price  minimum_nights  \\\n",
       "0          2818      3159  52.365755   4.941419     59               3   \n",
       "1          3209      3806  52.390225   4.873924    160               4   \n",
       "2         20168     59484  52.365087   4.893541     80               1   \n",
       "3         25428     56142  52.373114   4.883668    125              14   \n",
       "4         27886     97647  52.386727   4.892078    150               2   \n",
       "...         ...       ...        ...        ...    ...             ...   \n",
       "20025  30576148  13399651  52.345999   4.952145    340               7   \n",
       "20026  30577727   1595885  52.362412   4.932467    150               3   \n",
       "20027  30578037  87866499  52.362431   4.926912     80              10   \n",
       "20028  30579673   1595885  52.363780   4.932493     55               2   \n",
       "20029  30580413  27212057  52.346911   4.901932    220               5   \n",
       "\n",
       "       number_of_reviews  reviews_per_month  calculated_host_listings_count  \\\n",
       "0                    248               2.10                               1   \n",
       "1                     42               1.03                               1   \n",
       "2                    233               2.18                               2   \n",
       "3                      1               0.09                               2   \n",
       "4                    171               2.03                               1   \n",
       "...                  ...                ...                             ...   \n",
       "20025                  0               0.00                               1   \n",
       "20026                  0               0.00                               2   \n",
       "20027                  0               0.00                               2   \n",
       "20028                  0               0.00                               2   \n",
       "20029                  0               0.00                               1   \n",
       "\n",
       "       availability_365  accommodates  maximum_nights  \n",
       "0                    44             2              15  \n",
       "1                    47             5              20  \n",
       "2                   198             2            1000  \n",
       "3                   141             3              60  \n",
       "4                   199             2             730  \n",
       "...                 ...           ...             ...  \n",
       "20025                11             4              12  \n",
       "20026                16             3              14  \n",
       "20027               210             2              22  \n",
       "20028                31             2              15  \n",
       "20029                14             4            1125  \n",
       "\n",
       "[20030 rows x 12 columns]"
      ]
     },
     "execution_count": 32,
     "metadata": {},
     "output_type": "execute_result"
    }
   ],
   "source": [
    "listings_merge"
   ]
  },
  {
   "cell_type": "markdown",
   "id": "1e49a466",
   "metadata": {},
   "source": [
    "#### 2. The elbow technique"
   ]
  },
  {
   "cell_type": "code",
   "execution_count": 33,
   "id": "5ba76176",
   "metadata": {},
   "outputs": [],
   "source": [
    "num_cl = range(1, 10) # Defines the range of potential clusters in the data.\n",
    "kmeans = [KMeans(n_clusters=i) for i in num_cl] # Defines k-means clusters in the range assigned above."
   ]
  },
  {
   "cell_type": "code",
   "execution_count": 34,
   "id": "9929f92c",
   "metadata": {},
   "outputs": [
    {
     "name": "stderr",
     "output_type": "stream",
     "text": [
      "C:\\Users\\H539822\\Anaconda\\lib\\site-packages\\sklearn\\cluster\\_kmeans.py:870: FutureWarning: The default value of `n_init` will change from 10 to 'auto' in 1.4. Set the value of `n_init` explicitly to suppress the warning\n",
      "  warnings.warn(\n",
      "C:\\Users\\H539822\\Anaconda\\lib\\site-packages\\sklearn\\cluster\\_kmeans.py:870: FutureWarning: The default value of `n_init` will change from 10 to 'auto' in 1.4. Set the value of `n_init` explicitly to suppress the warning\n",
      "  warnings.warn(\n",
      "C:\\Users\\H539822\\Anaconda\\lib\\site-packages\\sklearn\\cluster\\_kmeans.py:870: FutureWarning: The default value of `n_init` will change from 10 to 'auto' in 1.4. Set the value of `n_init` explicitly to suppress the warning\n",
      "  warnings.warn(\n",
      "C:\\Users\\H539822\\Anaconda\\lib\\site-packages\\sklearn\\cluster\\_kmeans.py:870: FutureWarning: The default value of `n_init` will change from 10 to 'auto' in 1.4. Set the value of `n_init` explicitly to suppress the warning\n",
      "  warnings.warn(\n",
      "C:\\Users\\H539822\\Anaconda\\lib\\site-packages\\sklearn\\cluster\\_kmeans.py:870: FutureWarning: The default value of `n_init` will change from 10 to 'auto' in 1.4. Set the value of `n_init` explicitly to suppress the warning\n",
      "  warnings.warn(\n",
      "C:\\Users\\H539822\\Anaconda\\lib\\site-packages\\sklearn\\cluster\\_kmeans.py:870: FutureWarning: The default value of `n_init` will change from 10 to 'auto' in 1.4. Set the value of `n_init` explicitly to suppress the warning\n",
      "  warnings.warn(\n",
      "C:\\Users\\H539822\\Anaconda\\lib\\site-packages\\sklearn\\cluster\\_kmeans.py:870: FutureWarning: The default value of `n_init` will change from 10 to 'auto' in 1.4. Set the value of `n_init` explicitly to suppress the warning\n",
      "  warnings.warn(\n",
      "C:\\Users\\H539822\\Anaconda\\lib\\site-packages\\sklearn\\cluster\\_kmeans.py:870: FutureWarning: The default value of `n_init` will change from 10 to 'auto' in 1.4. Set the value of `n_init` explicitly to suppress the warning\n",
      "  warnings.warn(\n",
      "C:\\Users\\H539822\\Anaconda\\lib\\site-packages\\sklearn\\cluster\\_kmeans.py:870: FutureWarning: The default value of `n_init` will change from 10 to 'auto' in 1.4. Set the value of `n_init` explicitly to suppress the warning\n",
      "  warnings.warn(\n"
     ]
    },
    {
     "data": {
      "text/plain": [
       "[-6.5400143664072425e+19,\n",
       " -1.6483093778966536e+19,\n",
       " -7.827929095682598e+18,\n",
       " -4.711548264953878e+18,\n",
       " -3.2944893925470515e+18,\n",
       " -2.6892014644198774e+18,\n",
       " -2.1220577291560535e+18,\n",
       " -1.7689064132193551e+18,\n",
       " -1.5018015252680986e+18]"
      ]
     },
     "execution_count": 34,
     "metadata": {},
     "output_type": "execute_result"
    }
   ],
   "source": [
    "score = [kmeans[i].fit(listings_merge).score(listings_merge) for i in range(len(kmeans))] # Creates a score that represents \n",
    "# a rate of variation for the given cluster option.\n",
    "\n",
    "score"
   ]
  },
  {
   "cell_type": "code",
   "execution_count": 35,
   "id": "b617b4fd",
   "metadata": {},
   "outputs": [
    {
     "data": {
      "image/png": "[encoded data removed]",
      "text/plain": [
       "<Figure size 640x480 with 1 Axes>"
      ]
     },
     "metadata": {},
     "output_type": "display_data"
    }
   ],
   "source": [
    "# Plot the elbow curve using PyLab.\n",
    "\n",
    "pl.plot(num_cl,score)\n",
    "pl.xlabel('Number of Clusters')\n",
    "pl.ylabel('Score')\n",
    "pl.title('Elbow Curve')\n",
    "pl.show()"
   ]
  },
  {
   "cell_type": "markdown",
   "id": "0028a9a9",
   "metadata": {},
   "source": [
    "##### I will chosee 3 cluster, even if is not a so clear breaking point after that point it flatten more"
   ]
  },
  {
   "cell_type": "markdown",
   "id": "8296a72a",
   "metadata": {},
   "source": [
    "#### 3. k-means clustering"
   ]
  },
  {
   "cell_type": "code",
   "execution_count": 36,
   "id": "5ca8349e",
   "metadata": {},
   "outputs": [],
   "source": [
    "# Create the k-means object.\n",
    "\n",
    "kmeans = KMeans(n_clusters=3) "
   ]
  },
  {
   "cell_type": "code",
   "execution_count": 37,
   "id": "76aaa40e",
   "metadata": {},
   "outputs": [
    {
     "name": "stderr",
     "output_type": "stream",
     "text": [
      "C:\\Users\\H539822\\Anaconda\\lib\\site-packages\\sklearn\\cluster\\_kmeans.py:870: FutureWarning: The default value of `n_init` will change from 10 to 'auto' in 1.4. Set the value of `n_init` explicitly to suppress the warning\n",
      "  warnings.warn(\n"
     ]
    },
    {
     "data": {
      "text/html": [
       "<style>#sk-container-id-1 {color: black;background-color: white;}#sk-container-id-1 pre{padding: 0;}#sk-container-id-1 div.sk-toggleable {background-color: white;}#sk-container-id-1 label.sk-toggleable__label {cursor: pointer;display: block;width: 100%;margin-bottom: 0;padding: 0.3em;box-sizing: border-box;text-align: center;}#sk-container-id-1 label.sk-toggleable__label-arrow:before {content: \"▸\";float: left;margin-right: 0.25em;color: #696969;}#sk-container-id-1 label.sk-toggleable__label-arrow:hover:before {color: black;}#sk-container-id-1 div.sk-estimator:hover label.sk-toggleable__label-arrow:before {color: black;}#sk-container-id-1 div.sk-toggleable__content {max-height: 0;max-width: 0;overflow: hidden;text-align: left;background-color: #f0f8ff;}#sk-container-id-1 div.sk-toggleable__content pre {margin: 0.2em;color: black;border-radius: 0.25em;background-color: #f0f8ff;}#sk-container-id-1 input.sk-toggleable__control:checked~div.sk-toggleable__content {max-height: 200px;max-width: 100%;overflow: auto;}#sk-container-id-1 input.sk-toggleable__control:checked~label.sk-toggleable__label-arrow:before {content: \"▾\";}#sk-container-id-1 div.sk-estimator input.sk-toggleable__control:checked~label.sk-toggleable__label {background-color: #d4ebff;}#sk-container-id-1 div.sk-label input.sk-toggleable__control:checked~label.sk-toggleable__label {background-color: #d4ebff;}#sk-container-id-1 input.sk-hidden--visually {border: 0;clip: rect(1px 1px 1px 1px);clip: rect(1px, 1px, 1px, 1px);height: 1px;margin: -1px;overflow: hidden;padding: 0;position: absolute;width: 1px;}#sk-container-id-1 div.sk-estimator {font-family: monospace;background-color: #f0f8ff;border: 1px dotted black;border-radius: 0.25em;box-sizing: border-box;margin-bottom: 0.5em;}#sk-container-id-1 div.sk-estimator:hover {background-color: #d4ebff;}#sk-container-id-1 div.sk-parallel-item::after {content: \"\";width: 100%;border-bottom: 1px solid gray;flex-grow: 1;}#sk-container-id-1 div.sk-label:hover label.sk-toggleable__label {background-color: #d4ebff;}#sk-container-id-1 div.sk-serial::before {content: \"\";position: absolute;border-left: 1px solid gray;box-sizing: border-box;top: 0;bottom: 0;left: 50%;z-index: 0;}#sk-container-id-1 div.sk-serial {display: flex;flex-direction: column;align-items: center;background-color: white;padding-right: 0.2em;padding-left: 0.2em;position: relative;}#sk-container-id-1 div.sk-item {position: relative;z-index: 1;}#sk-container-id-1 div.sk-parallel {display: flex;align-items: stretch;justify-content: center;background-color: white;position: relative;}#sk-container-id-1 div.sk-item::before, #sk-container-id-1 div.sk-parallel-item::before {content: \"\";position: absolute;border-left: 1px solid gray;box-sizing: border-box;top: 0;bottom: 0;left: 50%;z-index: -1;}#sk-container-id-1 div.sk-parallel-item {display: flex;flex-direction: column;z-index: 1;position: relative;background-color: white;}#sk-container-id-1 div.sk-parallel-item:first-child::after {align-self: flex-end;width: 50%;}#sk-container-id-1 div.sk-parallel-item:last-child::after {align-self: flex-start;width: 50%;}#sk-container-id-1 div.sk-parallel-item:only-child::after {width: 0;}#sk-container-id-1 div.sk-dashed-wrapped {border: 1px dashed gray;margin: 0 0.4em 0.5em 0.4em;box-sizing: border-box;padding-bottom: 0.4em;background-color: white;}#sk-container-id-1 div.sk-label label {font-family: monospace;font-weight: bold;display: inline-block;line-height: 1.2em;}#sk-container-id-1 div.sk-label-container {text-align: center;}#sk-container-id-1 div.sk-container {/* jupyter's `normalize.less` sets `[hidden] { display: none; }` but bootstrap.min.css set `[hidden] { display: none !important; }` so we also need the `!important` here to be able to override the default hidden behavior on the sphinx rendered scikit-learn.org. See: https://github.com/scikit-learn/scikit-learn/issues/21755 */display: inline-block !important;position: relative;}#sk-container-id-1 div.sk-text-repr-fallback {display: none;}</style><div id=\"sk-container-id-1\" class=\"sk-top-container\"><div class=\"sk-text-repr-fallback\"><pre>KMeans(n_clusters=3)</pre><b>In a Jupyter environment, please rerun this cell to show the HTML representation or trust the notebook. <br />On GitHub, the HTML representation is unable to render, please try loading this page with nbviewer.org.</b></div><div class=\"sk-container\" hidden><div class=\"sk-item\"><div class=\"sk-estimator sk-toggleable\"><input class=\"sk-toggleable__control sk-hidden--visually\" id=\"sk-estimator-id-1\" type=\"checkbox\" checked><label for=\"sk-estimator-id-1\" class=\"sk-toggleable__label sk-toggleable__label-arrow\">KMeans</label><div class=\"sk-toggleable__content\"><pre>KMeans(n_clusters=3)</pre></div></div></div></div></div>"
      ],
      "text/plain": [
       "KMeans(n_clusters=3)"
      ]
     },
     "execution_count": 37,
     "metadata": {},
     "output_type": "execute_result"
    }
   ],
   "source": [
    "# Fit the k-means object to the data.\n",
    "\n",
    "kmeans.fit(listings_merge)"
   ]
  },
  {
   "cell_type": "code",
   "execution_count": 38,
   "id": "a6c0b156",
   "metadata": {},
   "outputs": [
    {
     "name": "stderr",
     "output_type": "stream",
     "text": [
      "C:\\Users\\H539822\\Anaconda\\lib\\site-packages\\sklearn\\cluster\\_kmeans.py:870: FutureWarning: The default value of `n_init` will change from 10 to 'auto' in 1.4. Set the value of `n_init` explicitly to suppress the warning\n",
      "  warnings.warn(\n"
     ]
    }
   ],
   "source": [
    "listings_merge['clusters'] = kmeans.fit_predict(listings_merge)"
   ]
  },
  {
   "cell_type": "code",
   "execution_count": 39,
   "id": "8908a7cd",
   "metadata": {},
   "outputs": [
    {
     "data": {
      "text/html": [
       "<div>\n",
       "<style scoped>\n",
       "    .dataframe tbody tr th:only-of-type {\n",
       "        vertical-align: middle;\n",
       "    }\n",
       "\n",
       "    .dataframe tbody tr th {\n",
       "        vertical-align: top;\n",
       "    }\n",
       "\n",
       "    .dataframe thead th {\n",
       "        text-align: right;\n",
       "    }\n",
       "</style>\n",
       "<table border=\"1\" class=\"dataframe\">\n",
       "  <thead>\n",
       "    <tr style=\"text-align: right;\">\n",
       "      <th></th>\n",
       "      <th>id</th>\n",
       "      <th>host_id</th>\n",
       "      <th>latitude</th>\n",
       "      <th>longitude</th>\n",
       "      <th>price</th>\n",
       "      <th>minimum_nights</th>\n",
       "      <th>number_of_reviews</th>\n",
       "      <th>reviews_per_month</th>\n",
       "      <th>calculated_host_listings_count</th>\n",
       "      <th>availability_365</th>\n",
       "      <th>accommodates</th>\n",
       "      <th>maximum_nights</th>\n",
       "      <th>clusters</th>\n",
       "    </tr>\n",
       "  </thead>\n",
       "  <tbody>\n",
       "    <tr>\n",
       "      <th>0</th>\n",
       "      <td>2818</td>\n",
       "      <td>3159</td>\n",
       "      <td>52.365755</td>\n",
       "      <td>4.941419</td>\n",
       "      <td>59</td>\n",
       "      <td>3</td>\n",
       "      <td>248</td>\n",
       "      <td>2.10</td>\n",
       "      <td>1</td>\n",
       "      <td>44</td>\n",
       "      <td>2</td>\n",
       "      <td>15</td>\n",
       "      <td>0</td>\n",
       "    </tr>\n",
       "    <tr>\n",
       "      <th>1</th>\n",
       "      <td>3209</td>\n",
       "      <td>3806</td>\n",
       "      <td>52.390225</td>\n",
       "      <td>4.873924</td>\n",
       "      <td>160</td>\n",
       "      <td>4</td>\n",
       "      <td>42</td>\n",
       "      <td>1.03</td>\n",
       "      <td>1</td>\n",
       "      <td>47</td>\n",
       "      <td>5</td>\n",
       "      <td>20</td>\n",
       "      <td>0</td>\n",
       "    </tr>\n",
       "    <tr>\n",
       "      <th>2</th>\n",
       "      <td>20168</td>\n",
       "      <td>59484</td>\n",
       "      <td>52.365087</td>\n",
       "      <td>4.893541</td>\n",
       "      <td>80</td>\n",
       "      <td>1</td>\n",
       "      <td>233</td>\n",
       "      <td>2.18</td>\n",
       "      <td>2</td>\n",
       "      <td>198</td>\n",
       "      <td>2</td>\n",
       "      <td>1000</td>\n",
       "      <td>0</td>\n",
       "    </tr>\n",
       "    <tr>\n",
       "      <th>3</th>\n",
       "      <td>25428</td>\n",
       "      <td>56142</td>\n",
       "      <td>52.373114</td>\n",
       "      <td>4.883668</td>\n",
       "      <td>125</td>\n",
       "      <td>14</td>\n",
       "      <td>1</td>\n",
       "      <td>0.09</td>\n",
       "      <td>2</td>\n",
       "      <td>141</td>\n",
       "      <td>3</td>\n",
       "      <td>60</td>\n",
       "      <td>0</td>\n",
       "    </tr>\n",
       "    <tr>\n",
       "      <th>4</th>\n",
       "      <td>27886</td>\n",
       "      <td>97647</td>\n",
       "      <td>52.386727</td>\n",
       "      <td>4.892078</td>\n",
       "      <td>150</td>\n",
       "      <td>2</td>\n",
       "      <td>171</td>\n",
       "      <td>2.03</td>\n",
       "      <td>1</td>\n",
       "      <td>199</td>\n",
       "      <td>2</td>\n",
       "      <td>730</td>\n",
       "      <td>0</td>\n",
       "    </tr>\n",
       "    <tr>\n",
       "      <th>...</th>\n",
       "      <td>...</td>\n",
       "      <td>...</td>\n",
       "      <td>...</td>\n",
       "      <td>...</td>\n",
       "      <td>...</td>\n",
       "      <td>...</td>\n",
       "      <td>...</td>\n",
       "      <td>...</td>\n",
       "      <td>...</td>\n",
       "      <td>...</td>\n",
       "      <td>...</td>\n",
       "      <td>...</td>\n",
       "      <td>...</td>\n",
       "    </tr>\n",
       "    <tr>\n",
       "      <th>20025</th>\n",
       "      <td>30576148</td>\n",
       "      <td>13399651</td>\n",
       "      <td>52.345999</td>\n",
       "      <td>4.952145</td>\n",
       "      <td>340</td>\n",
       "      <td>7</td>\n",
       "      <td>0</td>\n",
       "      <td>0.00</td>\n",
       "      <td>1</td>\n",
       "      <td>11</td>\n",
       "      <td>4</td>\n",
       "      <td>12</td>\n",
       "      <td>0</td>\n",
       "    </tr>\n",
       "    <tr>\n",
       "      <th>20026</th>\n",
       "      <td>30577727</td>\n",
       "      <td>1595885</td>\n",
       "      <td>52.362412</td>\n",
       "      <td>4.932467</td>\n",
       "      <td>150</td>\n",
       "      <td>3</td>\n",
       "      <td>0</td>\n",
       "      <td>0.00</td>\n",
       "      <td>2</td>\n",
       "      <td>16</td>\n",
       "      <td>3</td>\n",
       "      <td>14</td>\n",
       "      <td>0</td>\n",
       "    </tr>\n",
       "    <tr>\n",
       "      <th>20027</th>\n",
       "      <td>30578037</td>\n",
       "      <td>87866499</td>\n",
       "      <td>52.362431</td>\n",
       "      <td>4.926912</td>\n",
       "      <td>80</td>\n",
       "      <td>10</td>\n",
       "      <td>0</td>\n",
       "      <td>0.00</td>\n",
       "      <td>2</td>\n",
       "      <td>210</td>\n",
       "      <td>2</td>\n",
       "      <td>22</td>\n",
       "      <td>2</td>\n",
       "    </tr>\n",
       "    <tr>\n",
       "      <th>20028</th>\n",
       "      <td>30579673</td>\n",
       "      <td>1595885</td>\n",
       "      <td>52.363780</td>\n",
       "      <td>4.932493</td>\n",
       "      <td>55</td>\n",
       "      <td>2</td>\n",
       "      <td>0</td>\n",
       "      <td>0.00</td>\n",
       "      <td>2</td>\n",
       "      <td>31</td>\n",
       "      <td>2</td>\n",
       "      <td>15</td>\n",
       "      <td>0</td>\n",
       "    </tr>\n",
       "    <tr>\n",
       "      <th>20029</th>\n",
       "      <td>30580413</td>\n",
       "      <td>27212057</td>\n",
       "      <td>52.346911</td>\n",
       "      <td>4.901932</td>\n",
       "      <td>220</td>\n",
       "      <td>5</td>\n",
       "      <td>0</td>\n",
       "      <td>0.00</td>\n",
       "      <td>1</td>\n",
       "      <td>14</td>\n",
       "      <td>4</td>\n",
       "      <td>1125</td>\n",
       "      <td>0</td>\n",
       "    </tr>\n",
       "  </tbody>\n",
       "</table>\n",
       "<p>20030 rows × 13 columns</p>\n",
       "</div>"
      ],
      "text/plain": [
       "             id   host_id   latitude  longitude  price  minimum_nights  \\\n",
       "0          2818      3159  52.365755   4.941419     59               3   \n",
       "1          3209      3806  52.390225   4.873924    160               4   \n",
       "2         20168     59484  52.365087   4.893541     80               1   \n",
       "3         25428     56142  52.373114   4.883668    125              14   \n",
       "4         27886     97647  52.386727   4.892078    150               2   \n",
       "...         ...       ...        ...        ...    ...             ...   \n",
       "20025  30576148  13399651  52.345999   4.952145    340               7   \n",
       "20026  30577727   1595885  52.362412   4.932467    150               3   \n",
       "20027  30578037  87866499  52.362431   4.926912     80              10   \n",
       "20028  30579673   1595885  52.363780   4.932493     55               2   \n",
       "20029  30580413  27212057  52.346911   4.901932    220               5   \n",
       "\n",
       "       number_of_reviews  reviews_per_month  calculated_host_listings_count  \\\n",
       "0                    248               2.10                               1   \n",
       "1                     42               1.03                               1   \n",
       "2                    233               2.18                               2   \n",
       "3                      1               0.09                               2   \n",
       "4                    171               2.03                               1   \n",
       "...                  ...                ...                             ...   \n",
       "20025                  0               0.00                               1   \n",
       "20026                  0               0.00                               2   \n",
       "20027                  0               0.00                               2   \n",
       "20028                  0               0.00                               2   \n",
       "20029                  0               0.00                               1   \n",
       "\n",
       "       availability_365  accommodates  maximum_nights  clusters  \n",
       "0                    44             2              15         0  \n",
       "1                    47             5              20         0  \n",
       "2                   198             2            1000         0  \n",
       "3                   141             3              60         0  \n",
       "4                   199             2             730         0  \n",
       "...                 ...           ...             ...       ...  \n",
       "20025                11             4              12         0  \n",
       "20026                16             3              14         0  \n",
       "20027               210             2              22         2  \n",
       "20028                31             2              15         0  \n",
       "20029                14             4            1125         0  \n",
       "\n",
       "[20030 rows x 13 columns]"
      ]
     },
     "execution_count": 39,
     "metadata": {},
     "output_type": "execute_result"
    }
   ],
   "source": [
    "listings_merge"
   ]
  },
  {
   "cell_type": "code",
   "execution_count": 40,
   "id": "a37862bc",
   "metadata": {},
   "outputs": [
    {
     "data": {
      "text/plain": [
       "0    12937\n",
       "2     4466\n",
       "1     2627\n",
       "Name: clusters, dtype: int64"
      ]
     },
     "execution_count": 40,
     "metadata": {},
     "output_type": "execute_result"
    }
   ],
   "source": [
    "listings_merge['clusters'].value_counts()"
   ]
  },
  {
   "cell_type": "code",
   "execution_count": 49,
   "id": "0562fa31",
   "metadata": {},
   "outputs": [
    {
     "data": {
      "image/png": "[encoded data removed]",
      "text/plain": [
       "<Figure size 1200x800 with 1 Axes>"
      ]
     },
     "metadata": {},
     "output_type": "display_data"
    }
   ],
   "source": [
    "# Plot the clusters for the \"accommodates\" and \"price\" variables.\n",
    "\n",
    "plt.figure(figsize=(12,8))\n",
    "ax = sns.scatterplot(x=listings_merge['accommodates'], y=listings_merge['price'], hue=kmeans.labels_, s=100) \n",
    "# Here, you're subsetting `X` for the x and y arguments to avoid using their labels. \n",
    "# `hue` takes the value of the attribute `kmeans.labels_`, which is the result of running the k-means algorithm.\n",
    "# `s` represents the size of the points you want to see in the plot.\n",
    "\n",
    "ax.grid(False) # This removes the grid from the background.\n",
    "plt.xlabel('accommodates') # Label x-axis.\n",
    "plt.ylabel('price') # Label y-axis.\n",
    "plt.show()"
   ]
  },
  {
   "cell_type": "code",
   "execution_count": 50,
   "id": "e1c56816",
   "metadata": {},
   "outputs": [
    {
     "data": {
      "image/png": "[encoded data removed]",
      "text/plain": [
       "<Figure size 1200x800 with 1 Axes>"
      ]
     },
     "metadata": {},
     "output_type": "display_data"
    }
   ],
   "source": [
    "# Plot the clusters for the \"accommodates\" and \"price\" variables.\n",
    "\n",
    "plt.figure(figsize=(12,8))\n",
    "ax = sns.scatterplot(x=listings_merge['number_of_reviews'], y=listings_merge['price'], hue=kmeans.labels_, s=100) \n",
    "# Here, you're subsetting `X` for the x and y arguments to avoid using their labels. \n",
    "# `hue` takes the value of the attribute `kmeans.labels_`, which is the result of running the k-means algorithm.\n",
    "# `s` represents the size of the points you want to see in the plot.\n",
    "\n",
    "ax.grid(False) # This removes the grid from the background.\n",
    "plt.xlabel('number_of_reviews') # Label x-axis.\n",
    "plt.ylabel('price') # Label y-axis.\n",
    "plt.show()"
   ]
  },
  {
   "cell_type": "markdown",
   "id": "d312c6f2",
   "metadata": {},
   "source": [
    "##### The most usefull information we can get from here is about price is higher with more people accommodating but I think I really need to explore the data more to make a solid inference of the data set."
   ]
  },
  {
   "cell_type": "markdown",
   "id": "b4b3c6b9",
   "metadata": {},
   "source": [
    "### Calculate the descriptive statistics for your clusters using the groupby() function and discuss your findings."
   ]
  },
  {
   "cell_type": "code",
   "execution_count": 51,
   "id": "17c430b2",
   "metadata": {},
   "outputs": [],
   "source": [
    "# renaming the clusters \n",
    "listings_merge.loc[listings_merge['clusters'] == 2, 'cluster'] = 'dark purple'\n",
    "listings_merge.loc[listings_merge['clusters'] == 1, 'cluster'] = 'purple'\n",
    "listings_merge.loc[listings_merge['clusters'] == 0, 'cluster'] = 'pink'"
   ]
  },
  {
   "cell_type": "code",
   "execution_count": 52,
   "id": "be66ff2a",
   "metadata": {},
   "outputs": [
    {
     "data": {
      "text/html": [
       "<div>\n",
       "<style scoped>\n",
       "    .dataframe tbody tr th:only-of-type {\n",
       "        vertical-align: middle;\n",
       "    }\n",
       "\n",
       "    .dataframe tbody tr th {\n",
       "        vertical-align: top;\n",
       "    }\n",
       "\n",
       "    .dataframe thead tr th {\n",
       "        text-align: left;\n",
       "    }\n",
       "\n",
       "    .dataframe thead tr:last-of-type th {\n",
       "        text-align: right;\n",
       "    }\n",
       "</style>\n",
       "<table border=\"1\" class=\"dataframe\">\n",
       "  <thead>\n",
       "    <tr>\n",
       "      <th></th>\n",
       "      <th colspan=\"2\" halign=\"left\">price</th>\n",
       "      <th colspan=\"2\" halign=\"left\">number_of_reviews</th>\n",
       "      <th colspan=\"2\" halign=\"left\">accommodates</th>\n",
       "    </tr>\n",
       "    <tr>\n",
       "      <th></th>\n",
       "      <th>mean</th>\n",
       "      <th>median</th>\n",
       "      <th>mean</th>\n",
       "      <th>median</th>\n",
       "      <th>mean</th>\n",
       "      <th>median</th>\n",
       "    </tr>\n",
       "    <tr>\n",
       "      <th>cluster</th>\n",
       "      <th></th>\n",
       "      <th></th>\n",
       "      <th></th>\n",
       "      <th></th>\n",
       "      <th></th>\n",
       "      <th></th>\n",
       "    </tr>\n",
       "  </thead>\n",
       "  <tbody>\n",
       "    <tr>\n",
       "      <th>dark purple</th>\n",
       "      <td>151.534035</td>\n",
       "      <td>125.0</td>\n",
       "      <td>16.821093</td>\n",
       "      <td>7.0</td>\n",
       "      <td>2.905284</td>\n",
       "      <td>2.0</td>\n",
       "    </tr>\n",
       "    <tr>\n",
       "      <th>pink</th>\n",
       "      <td>151.316920</td>\n",
       "      <td>125.0</td>\n",
       "      <td>25.551983</td>\n",
       "      <td>10.0</td>\n",
       "      <td>2.880730</td>\n",
       "      <td>2.0</td>\n",
       "    </tr>\n",
       "    <tr>\n",
       "      <th>purple</th>\n",
       "      <td>157.537495</td>\n",
       "      <td>134.0</td>\n",
       "      <td>9.960792</td>\n",
       "      <td>4.0</td>\n",
       "      <td>2.924248</td>\n",
       "      <td>2.0</td>\n",
       "    </tr>\n",
       "  </tbody>\n",
       "</table>\n",
       "</div>"
      ],
      "text/plain": [
       "                  price        number_of_reviews        accommodates       \n",
       "                   mean median              mean median         mean median\n",
       "cluster                                                                    \n",
       "dark purple  151.534035  125.0         16.821093    7.0     2.905284    2.0\n",
       "pink         151.316920  125.0         25.551983   10.0     2.880730    2.0\n",
       "purple       157.537495  134.0          9.960792    4.0     2.924248    2.0"
      ]
     },
     "execution_count": 52,
     "metadata": {},
     "output_type": "execute_result"
    }
   ],
   "source": [
    "listings_merge.groupby('cluster').agg({'price':['mean', 'median'], \n",
    "                              'number_of_reviews':['mean', 'median'], \n",
    "                              'accommodates':['mean', 'median']})"
   ]
  },
  {
   "cell_type": "markdown",
   "id": "a2ce90b0",
   "metadata": {},
   "source": [
    "### Calculate the descriptive statistics for your clusters using the groupby() function and discuss your findings."
   ]
  },
  {
   "cell_type": "markdown",
   "id": "b02bf485",
   "metadata": {},
   "source": [
    "#### For price, dark purple and pink clusters are basically the same mean and median. Might have to reevulate the different variables in the dataset to suit the needs of the exercise."
   ]
  },
  {
   "cell_type": "markdown",
   "id": "c87ab53c",
   "metadata": {},
   "source": [
    "### Propose what these results could be useful for in future steps of an analytics pipeline."
   ]
  },
  {
   "cell_type": "markdown",
   "id": "8e49509d",
   "metadata": {},
   "source": [
    "#### this give me an idea about the preferences and how market see how far the neighborhoods are from the city centre since a lot of people like this preferences to be close proximity."
   ]
  }
 ],
 "metadata": {
  "kernelspec": {
   "display_name": "Python 3 (ipykernel)",
   "language": "python",
   "name": "python3"
  },
  "language_info": {
   "codemirror_mode": {
    "name": "ipython",
    "version": 3
   },
   "file_extension": ".py",
   "mimetype": "text/x-python",
   "name": "python",
   "nbconvert_exporter": "python",
   "pygments_lexer": "ipython3",
   "version": "3.10.9"
  }
 },
 "nbformat": 4,
 "nbformat_minor": 5
}
