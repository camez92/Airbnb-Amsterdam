{
 "cells": [
  {
   "cell_type": "markdown",
   "id": "3705b192",
   "metadata": {},
   "source": [
    "# 6.4 - Supervised Machine Learning - Regression"
   ]
  },
  {
   "cell_type": "markdown",
   "id": "73770050",
   "metadata": {},
   "source": [
    "### Contents\n",
    "#### 1. Importing libraries and data\n",
    "#### 2. Data cleaning\n",
    "#### 3. Data prep for regression analysis\n",
    "#### 4. Regression analysis"
   ]
  },
  {
   "cell_type": "markdown",
   "id": "7ee216fd",
   "metadata": {},
   "source": [
    "### 1. Importing libraries and data"
   ]
  },
  {
   "cell_type": "code",
   "execution_count": 1,
   "id": "c96a8856",
   "metadata": {},
   "outputs": [],
   "source": [
    "import pandas as pd\n",
    "import numpy as np\n",
    "import seaborn as sns\n",
    "import matplotlib\n",
    "import matplotlib.pyplot as plt\n",
    "import os\n",
    "import sklearn\n",
    "from sklearn.model_selection import train_test_split \n",
    "from sklearn.linear_model import LinearRegression\n",
    "from sklearn.metrics import mean_squared_error, r2_score"
   ]
  },
  {
   "cell_type": "code",
   "execution_count": 2,
   "id": "f0407e77",
   "metadata": {},
   "outputs": [],
   "source": [
    "# This option ensures that the graphs you create are displayed within the notebook without the need to \"call\" them specifically.\n",
    "\n",
    "%matplotlib inline"
   ]
  },
  {
   "cell_type": "code",
   "execution_count": 3,
   "id": "e3802c8c",
   "metadata": {},
   "outputs": [],
   "source": [
    "# Define path\n",
    "\n",
    "path = r'C:\\Users\\H539822\\Desktop\\Airbnb_Amsterdam'"
   ]
  },
  {
   "cell_type": "code",
   "execution_count": 4,
   "id": "b8f02635",
   "metadata": {},
   "outputs": [],
   "source": [
    "# Import .PKL\n",
    "\n",
    "listings_merge = pd.read_csv(os.path.join(path, 'listings_merge.csv'))"
   ]
  },
  {
   "cell_type": "markdown",
   "id": "d69f2a0c",
   "metadata": {},
   "source": [
    "### 2. Data cleaning"
   ]
  },
  {
   "cell_type": "code",
   "execution_count": 5,
   "id": "03cc800f",
   "metadata": {},
   "outputs": [
    {
     "data": {
      "text/plain": [
       "Index(['id', 'name', 'host_id', 'host_name', 'neighbourhood', 'latitude',\n",
       "       'longitude', 'room_type', 'price', 'minimum_nights',\n",
       "       'number_of_reviews', 'last_review', 'reviews_per_month',\n",
       "       'calculated_host_listings_count', 'availability_365', 'property_type',\n",
       "       'accommodates', 'first_review', 'review_scores_value',\n",
       "       'review_scores_cleanliness', 'review_scores_location',\n",
       "       'review_scores_accuracy', 'review_scores_communication',\n",
       "       'review_scores_checkin', 'review_scores_rating', 'maximum_nights',\n",
       "       'listing_url', 'host_is_superhost', 'host_about', 'host_response_time',\n",
       "       'host_response_rate', 'street', 'weekly_price', 'monthly_price',\n",
       "       'market'],\n",
       "      dtype='object')"
      ]
     },
     "execution_count": 5,
     "metadata": {},
     "output_type": "execute_result"
    }
   ],
   "source": [
    "listings_merge.columns"
   ]
  },
  {
   "cell_type": "code",
   "execution_count": 6,
   "id": "c051b8e6",
   "metadata": {},
   "outputs": [
    {
     "data": {
      "text/html": [
       "<div>\n",
       "<style scoped>\n",
       "    .dataframe tbody tr th:only-of-type {\n",
       "        vertical-align: middle;\n",
       "    }\n",
       "\n",
       "    .dataframe tbody tr th {\n",
       "        vertical-align: top;\n",
       "    }\n",
       "\n",
       "    .dataframe thead th {\n",
       "        text-align: right;\n",
       "    }\n",
       "</style>\n",
       "<table border=\"1\" class=\"dataframe\">\n",
       "  <thead>\n",
       "    <tr style=\"text-align: right;\">\n",
       "      <th></th>\n",
       "      <th>id</th>\n",
       "      <th>name</th>\n",
       "      <th>host_id</th>\n",
       "      <th>host_name</th>\n",
       "      <th>neighbourhood</th>\n",
       "      <th>latitude</th>\n",
       "      <th>longitude</th>\n",
       "      <th>room_type</th>\n",
       "      <th>price</th>\n",
       "      <th>minimum_nights</th>\n",
       "      <th>...</th>\n",
       "      <th>maximum_nights</th>\n",
       "      <th>listing_url</th>\n",
       "      <th>host_is_superhost</th>\n",
       "      <th>host_about</th>\n",
       "      <th>host_response_time</th>\n",
       "      <th>host_response_rate</th>\n",
       "      <th>street</th>\n",
       "      <th>weekly_price</th>\n",
       "      <th>monthly_price</th>\n",
       "      <th>market</th>\n",
       "    </tr>\n",
       "  </thead>\n",
       "  <tbody>\n",
       "    <tr>\n",
       "      <th>0</th>\n",
       "      <td>2818</td>\n",
       "      <td>Quiet Garden View Room &amp; Super Fast WiFi</td>\n",
       "      <td>3159</td>\n",
       "      <td>Daniel</td>\n",
       "      <td>Oostelijk Havengebied - Indische Buurt</td>\n",
       "      <td>52.365755</td>\n",
       "      <td>4.941419</td>\n",
       "      <td>Private room</td>\n",
       "      <td>59</td>\n",
       "      <td>3</td>\n",
       "      <td>...</td>\n",
       "      <td>15</td>\n",
       "      <td>https://www.airbnb.com/rooms/2818</td>\n",
       "      <td>t</td>\n",
       "      <td>Upon arriving in Amsterdam, one can imagine as...</td>\n",
       "      <td>within an hour</td>\n",
       "      <td>100.0</td>\n",
       "      <td>Amsterdam, North Holland, Netherlands</td>\n",
       "      <td>NaN</td>\n",
       "      <td>$1,500.00</td>\n",
       "      <td>Amsterdam</td>\n",
       "    </tr>\n",
       "    <tr>\n",
       "      <th>1</th>\n",
       "      <td>3209</td>\n",
       "      <td>Quiet apt near center, great view</td>\n",
       "      <td>3806</td>\n",
       "      <td>Maartje</td>\n",
       "      <td>Westerpark</td>\n",
       "      <td>52.390225</td>\n",
       "      <td>4.873924</td>\n",
       "      <td>Entire home/apt</td>\n",
       "      <td>160</td>\n",
       "      <td>4</td>\n",
       "      <td>...</td>\n",
       "      <td>20</td>\n",
       "      <td>https://www.airbnb.com/rooms/3209</td>\n",
       "      <td>f</td>\n",
       "      <td>I am a freelance radio producer and journalist...</td>\n",
       "      <td>within an hour</td>\n",
       "      <td>100.0</td>\n",
       "      <td>Amsterdam, Noord-Holland, Netherlands</td>\n",
       "      <td>$543.00</td>\n",
       "      <td>$2,000.00</td>\n",
       "      <td>Amsterdam</td>\n",
       "    </tr>\n",
       "    <tr>\n",
       "      <th>2</th>\n",
       "      <td>20168</td>\n",
       "      <td>100%Centre-Studio 1 Private Floor/Bathroom</td>\n",
       "      <td>59484</td>\n",
       "      <td>Alex</td>\n",
       "      <td>Centrum-Oost</td>\n",
       "      <td>52.365087</td>\n",
       "      <td>4.893541</td>\n",
       "      <td>Entire home/apt</td>\n",
       "      <td>80</td>\n",
       "      <td>1</td>\n",
       "      <td>...</td>\n",
       "      <td>1000</td>\n",
       "      <td>https://www.airbnb.com/rooms/20168</td>\n",
       "      <td>f</td>\n",
       "      <td>Secondary phone nr. + (Phone number hidden by ...</td>\n",
       "      <td>within a few hours</td>\n",
       "      <td>100.0</td>\n",
       "      <td>Amsterdam, North Holland, Netherlands</td>\n",
       "      <td>NaN</td>\n",
       "      <td>NaN</td>\n",
       "      <td>Amsterdam</td>\n",
       "    </tr>\n",
       "    <tr>\n",
       "      <th>3</th>\n",
       "      <td>25428</td>\n",
       "      <td>Lovely apt in City Centre (Jordaan)</td>\n",
       "      <td>56142</td>\n",
       "      <td>Joan</td>\n",
       "      <td>Centrum-West</td>\n",
       "      <td>52.373114</td>\n",
       "      <td>4.883668</td>\n",
       "      <td>Entire home/apt</td>\n",
       "      <td>125</td>\n",
       "      <td>14</td>\n",
       "      <td>...</td>\n",
       "      <td>60</td>\n",
       "      <td>https://www.airbnb.com/rooms/25428</td>\n",
       "      <td>f</td>\n",
       "      <td>We are a retired couple who live in NYC, and h...</td>\n",
       "      <td>within a few hours</td>\n",
       "      <td>100.0</td>\n",
       "      <td>Amsterdam, North Holland, Netherlands</td>\n",
       "      <td>$650.00</td>\n",
       "      <td>$2,000.00</td>\n",
       "      <td>Amsterdam</td>\n",
       "    </tr>\n",
       "    <tr>\n",
       "      <th>4</th>\n",
       "      <td>27886</td>\n",
       "      <td>Romantic, stylish B&amp;B houseboat in canal district</td>\n",
       "      <td>97647</td>\n",
       "      <td>Flip</td>\n",
       "      <td>Centrum-West</td>\n",
       "      <td>52.386727</td>\n",
       "      <td>4.892078</td>\n",
       "      <td>Private room</td>\n",
       "      <td>150</td>\n",
       "      <td>2</td>\n",
       "      <td>...</td>\n",
       "      <td>730</td>\n",
       "      <td>https://www.airbnb.com/rooms/27886</td>\n",
       "      <td>t</td>\n",
       "      <td>Marjan works in \"eye\" the dutch filmmuseum, an...</td>\n",
       "      <td>within an hour</td>\n",
       "      <td>100.0</td>\n",
       "      <td>Amsterdam, North Holland, Netherlands</td>\n",
       "      <td>$810.00</td>\n",
       "      <td>$2,500.00</td>\n",
       "      <td>Amsterdam</td>\n",
       "    </tr>\n",
       "    <tr>\n",
       "      <th>5</th>\n",
       "      <td>28658</td>\n",
       "      <td>Cosy guest room near city centre -1</td>\n",
       "      <td>123414</td>\n",
       "      <td>Michele</td>\n",
       "      <td>Bos en Lommer</td>\n",
       "      <td>52.375342</td>\n",
       "      <td>4.857289</td>\n",
       "      <td>Private room</td>\n",
       "      <td>65</td>\n",
       "      <td>3</td>\n",
       "      <td>...</td>\n",
       "      <td>15</td>\n",
       "      <td>https://www.airbnb.com/rooms/28658</td>\n",
       "      <td>f</td>\n",
       "      <td>I'm Italian (from Sardinia) , I live in Amster...</td>\n",
       "      <td>within an hour</td>\n",
       "      <td>100.0</td>\n",
       "      <td>Amsterdam, Noord-Holland, Netherlands</td>\n",
       "      <td>NaN</td>\n",
       "      <td>NaN</td>\n",
       "      <td>Amsterdam</td>\n",
       "    </tr>\n",
       "    <tr>\n",
       "      <th>6</th>\n",
       "      <td>28871</td>\n",
       "      <td>Comfortable double room</td>\n",
       "      <td>124245</td>\n",
       "      <td>Edwin</td>\n",
       "      <td>Centrum-West</td>\n",
       "      <td>52.367187</td>\n",
       "      <td>4.890918</td>\n",
       "      <td>Private room</td>\n",
       "      <td>75</td>\n",
       "      <td>2</td>\n",
       "      <td>...</td>\n",
       "      <td>1825</td>\n",
       "      <td>https://www.airbnb.com/rooms/28871</td>\n",
       "      <td>t</td>\n",
       "      <td>Hi</td>\n",
       "      <td>within an hour</td>\n",
       "      <td>100.0</td>\n",
       "      <td>Amsterdam, North Holland, Netherlands</td>\n",
       "      <td>$499.00</td>\n",
       "      <td>$1,956.00</td>\n",
       "      <td>Amsterdam</td>\n",
       "    </tr>\n",
       "    <tr>\n",
       "      <th>7</th>\n",
       "      <td>29051</td>\n",
       "      <td>Comfortable single room</td>\n",
       "      <td>124245</td>\n",
       "      <td>Edwin</td>\n",
       "      <td>Centrum-West</td>\n",
       "      <td>52.367725</td>\n",
       "      <td>4.891512</td>\n",
       "      <td>Private room</td>\n",
       "      <td>55</td>\n",
       "      <td>2</td>\n",
       "      <td>...</td>\n",
       "      <td>730</td>\n",
       "      <td>https://www.airbnb.com/rooms/29051</td>\n",
       "      <td>t</td>\n",
       "      <td>Hi</td>\n",
       "      <td>within an hour</td>\n",
       "      <td>100.0</td>\n",
       "      <td>Amsterdam, North Holland, Netherlands</td>\n",
       "      <td>$350.00</td>\n",
       "      <td>$1,435.00</td>\n",
       "      <td>Amsterdam</td>\n",
       "    </tr>\n",
       "    <tr>\n",
       "      <th>8</th>\n",
       "      <td>31080</td>\n",
       "      <td>2-story apartment + rooftop terrace</td>\n",
       "      <td>133488</td>\n",
       "      <td>Nienke</td>\n",
       "      <td>Zuid</td>\n",
       "      <td>52.351321</td>\n",
       "      <td>4.848383</td>\n",
       "      <td>Entire home/apt</td>\n",
       "      <td>219</td>\n",
       "      <td>3</td>\n",
       "      <td>...</td>\n",
       "      <td>365</td>\n",
       "      <td>https://www.airbnb.com/rooms/31080</td>\n",
       "      <td>f</td>\n",
       "      <td>(Hidden by Airbnb) Likes:\\r\\nOrishas, Manu Cha...</td>\n",
       "      <td>a few days or more</td>\n",
       "      <td>0.0</td>\n",
       "      <td>Amsterdam, North Holland, Netherlands</td>\n",
       "      <td>$1,400.00</td>\n",
       "      <td>$4,000.00</td>\n",
       "      <td>Amsterdam</td>\n",
       "    </tr>\n",
       "    <tr>\n",
       "      <th>9</th>\n",
       "      <td>41125</td>\n",
       "      <td>Amsterdam Center Entire Apartment</td>\n",
       "      <td>178515</td>\n",
       "      <td>Fatih</td>\n",
       "      <td>Centrum-West</td>\n",
       "      <td>52.378915</td>\n",
       "      <td>4.883205</td>\n",
       "      <td>Entire home/apt</td>\n",
       "      <td>180</td>\n",
       "      <td>3</td>\n",
       "      <td>...</td>\n",
       "      <td>21</td>\n",
       "      <td>https://www.airbnb.com/rooms/41125</td>\n",
       "      <td>f</td>\n",
       "      <td>(Hidden by Airbnb) Likes:\\r\\nMichael Jackson, ...</td>\n",
       "      <td>within a few hours</td>\n",
       "      <td>100.0</td>\n",
       "      <td>Amsterdam, North Holland, Netherlands</td>\n",
       "      <td>$650.00</td>\n",
       "      <td>$1,600.00</td>\n",
       "      <td>Amsterdam</td>\n",
       "    </tr>\n",
       "    <tr>\n",
       "      <th>10</th>\n",
       "      <td>42970</td>\n",
       "      <td>Comfortable room@PERFECT location + 2 bikes</td>\n",
       "      <td>187580</td>\n",
       "      <td>Micha</td>\n",
       "      <td>Centrum-West</td>\n",
       "      <td>52.367814</td>\n",
       "      <td>4.890012</td>\n",
       "      <td>Private room</td>\n",
       "      <td>159</td>\n",
       "      <td>3</td>\n",
       "      <td>...</td>\n",
       "      <td>1100</td>\n",
       "      <td>https://www.airbnb.com/rooms/42970</td>\n",
       "      <td>t</td>\n",
       "      <td>Hi!\\r\\n\\r\\nI am Micha. I am running my place, ...</td>\n",
       "      <td>within an hour</td>\n",
       "      <td>100.0</td>\n",
       "      <td>Amsterdam, North Holland, Netherlands</td>\n",
       "      <td>NaN</td>\n",
       "      <td>$3,000.00</td>\n",
       "      <td>Amsterdam</td>\n",
       "    </tr>\n",
       "    <tr>\n",
       "      <th>11</th>\n",
       "      <td>43980</td>\n",
       "      <td>View into park / museum district (long/short s...</td>\n",
       "      <td>65041</td>\n",
       "      <td>Ym</td>\n",
       "      <td>Zuid</td>\n",
       "      <td>52.357456</td>\n",
       "      <td>4.861242</td>\n",
       "      <td>Entire home/apt</td>\n",
       "      <td>100</td>\n",
       "      <td>28</td>\n",
       "      <td>...</td>\n",
       "      <td>365</td>\n",
       "      <td>https://www.airbnb.com/rooms/43980</td>\n",
       "      <td>f</td>\n",
       "      <td>I am Art and language interested, educated in ...</td>\n",
       "      <td>within a few hours</td>\n",
       "      <td>100.0</td>\n",
       "      <td>Amsterdam, North Holland, Netherlands</td>\n",
       "      <td>$680.00</td>\n",
       "      <td>$1,250.00</td>\n",
       "      <td>Amsterdam</td>\n",
       "    </tr>\n",
       "    <tr>\n",
       "      <th>12</th>\n",
       "      <td>44129</td>\n",
       "      <td>Luxury design with canal view</td>\n",
       "      <td>187728</td>\n",
       "      <td>Tanya</td>\n",
       "      <td>Centrum-West</td>\n",
       "      <td>52.380711</td>\n",
       "      <td>4.886104</td>\n",
       "      <td>Entire home/apt</td>\n",
       "      <td>250</td>\n",
       "      <td>2</td>\n",
       "      <td>...</td>\n",
       "      <td>1125</td>\n",
       "      <td>https://www.airbnb.com/rooms/44129</td>\n",
       "      <td>t</td>\n",
       "      <td>I am little bit of a nomad. Born in Belarus, r...</td>\n",
       "      <td>within a day</td>\n",
       "      <td>91.0</td>\n",
       "      <td>Amsterdam, North Holland, Netherlands</td>\n",
       "      <td>NaN</td>\n",
       "      <td>NaN</td>\n",
       "      <td>Amsterdam</td>\n",
       "    </tr>\n",
       "    <tr>\n",
       "      <th>13</th>\n",
       "      <td>44391</td>\n",
       "      <td>Amsterdam Centre, 3-room Apartment</td>\n",
       "      <td>194779</td>\n",
       "      <td>Jan</td>\n",
       "      <td>Centrum-Oost</td>\n",
       "      <td>52.370170</td>\n",
       "      <td>4.914378</td>\n",
       "      <td>Entire home/apt</td>\n",
       "      <td>200</td>\n",
       "      <td>3</td>\n",
       "      <td>...</td>\n",
       "      <td>730</td>\n",
       "      <td>https://www.airbnb.com/rooms/44391</td>\n",
       "      <td>f</td>\n",
       "      <td>Love to travel while hosting and to host while...</td>\n",
       "      <td>within an hour</td>\n",
       "      <td>100.0</td>\n",
       "      <td>Amsterdam, Noord-Holland, Netherlands</td>\n",
       "      <td>NaN</td>\n",
       "      <td>NaN</td>\n",
       "      <td>Amsterdam</td>\n",
       "    </tr>\n",
       "    <tr>\n",
       "      <th>14</th>\n",
       "      <td>45246</td>\n",
       "      <td>Cozy Flat in the Jordaan (center)</td>\n",
       "      <td>200188</td>\n",
       "      <td>George</td>\n",
       "      <td>Westerpark</td>\n",
       "      <td>52.377676</td>\n",
       "      <td>4.876179</td>\n",
       "      <td>Entire home/apt</td>\n",
       "      <td>155</td>\n",
       "      <td>3</td>\n",
       "      <td>...</td>\n",
       "      <td>365</td>\n",
       "      <td>https://www.airbnb.com/rooms/45246</td>\n",
       "      <td>f</td>\n",
       "      <td>Hallo I am  George a  Canadian Young and a Pro...</td>\n",
       "      <td>within an hour</td>\n",
       "      <td>100.0</td>\n",
       "      <td>Amsterdam, North Holland, Netherlands</td>\n",
       "      <td>$900.00</td>\n",
       "      <td>NaN</td>\n",
       "      <td>Amsterdam</td>\n",
       "    </tr>\n",
       "    <tr>\n",
       "      <th>15</th>\n",
       "      <td>46386</td>\n",
       "      <td>Cozy loft in central Amsterdam</td>\n",
       "      <td>207342</td>\n",
       "      <td>Joost</td>\n",
       "      <td>De Pijp - Rivierenbuurt</td>\n",
       "      <td>52.352470</td>\n",
       "      <td>4.908254</td>\n",
       "      <td>Entire home/apt</td>\n",
       "      <td>150</td>\n",
       "      <td>3</td>\n",
       "      <td>...</td>\n",
       "      <td>1825</td>\n",
       "      <td>https://www.airbnb.com/rooms/46386</td>\n",
       "      <td>f</td>\n",
       "      <td>Dutch Physician (Cosmetic doctor) living and w...</td>\n",
       "      <td>NaN</td>\n",
       "      <td>NaN</td>\n",
       "      <td>Amsterdam, North Holland, Netherlands</td>\n",
       "      <td>NaN</td>\n",
       "      <td>NaN</td>\n",
       "      <td>Amsterdam</td>\n",
       "    </tr>\n",
       "    <tr>\n",
       "      <th>16</th>\n",
       "      <td>47061</td>\n",
       "      <td>Charming apartment in old centre</td>\n",
       "      <td>211696</td>\n",
       "      <td>Ivar</td>\n",
       "      <td>De Baarsjes - Oud-West</td>\n",
       "      <td>52.367986</td>\n",
       "      <td>4.874469</td>\n",
       "      <td>Entire home/apt</td>\n",
       "      <td>140</td>\n",
       "      <td>2</td>\n",
       "      <td>...</td>\n",
       "      <td>60</td>\n",
       "      <td>https://www.airbnb.com/rooms/47061</td>\n",
       "      <td>f</td>\n",
       "      <td>Hi, I am a freelance theatre director and comp...</td>\n",
       "      <td>within an hour</td>\n",
       "      <td>100.0</td>\n",
       "      <td>Amsterdam, North Holland, Netherlands</td>\n",
       "      <td>$720.00</td>\n",
       "      <td>$2,200.00</td>\n",
       "      <td>Amsterdam</td>\n",
       "    </tr>\n",
       "    <tr>\n",
       "      <th>17</th>\n",
       "      <td>48076</td>\n",
       "      <td>Amsterdam Central and lot of space</td>\n",
       "      <td>219080</td>\n",
       "      <td>Franklin</td>\n",
       "      <td>Centrum-West</td>\n",
       "      <td>52.380420</td>\n",
       "      <td>4.894535</td>\n",
       "      <td>Entire home/apt</td>\n",
       "      <td>350</td>\n",
       "      <td>5</td>\n",
       "      <td>...</td>\n",
       "      <td>30</td>\n",
       "      <td>https://www.airbnb.com/rooms/48076</td>\n",
       "      <td>t</td>\n",
       "      <td>'Hello, I'm Franklin. I look forward to hearin...</td>\n",
       "      <td>within an hour</td>\n",
       "      <td>80.0</td>\n",
       "      <td>Amsterdam, North Holland, Netherlands</td>\n",
       "      <td>NaN</td>\n",
       "      <td>NaN</td>\n",
       "      <td>Amsterdam</td>\n",
       "    </tr>\n",
       "    <tr>\n",
       "      <th>18</th>\n",
       "      <td>49790</td>\n",
       "      <td>Luxurous Houseboat-Great Location</td>\n",
       "      <td>227530</td>\n",
       "      <td>Klaas</td>\n",
       "      <td>De Baarsjes - Oud-West</td>\n",
       "      <td>52.362664</td>\n",
       "      <td>4.861032</td>\n",
       "      <td>Entire home/apt</td>\n",
       "      <td>225</td>\n",
       "      <td>3</td>\n",
       "      <td>...</td>\n",
       "      <td>365</td>\n",
       "      <td>https://www.airbnb.com/rooms/49790</td>\n",
       "      <td>f</td>\n",
       "      <td>hi\\r\\nIf you want a real comfortable stay, on ...</td>\n",
       "      <td>within an hour</td>\n",
       "      <td>100.0</td>\n",
       "      <td>Amsterdam, North Holland, Netherlands</td>\n",
       "      <td>$1,250.00</td>\n",
       "      <td>$3,750.00</td>\n",
       "      <td>Amsterdam</td>\n",
       "    </tr>\n",
       "    <tr>\n",
       "      <th>19</th>\n",
       "      <td>50515</td>\n",
       "      <td>Family Home (No drugs, smoking or parties)</td>\n",
       "      <td>231864</td>\n",
       "      <td>Karin</td>\n",
       "      <td>Bos en Lommer</td>\n",
       "      <td>52.377272</td>\n",
       "      <td>4.839253</td>\n",
       "      <td>Entire home/apt</td>\n",
       "      <td>120</td>\n",
       "      <td>3</td>\n",
       "      <td>...</td>\n",
       "      <td>15</td>\n",
       "      <td>https://www.airbnb.com/rooms/50515</td>\n",
       "      <td>f</td>\n",
       "      <td>My name is Karin I'm an English teacher in Ams...</td>\n",
       "      <td>within a day</td>\n",
       "      <td>67.0</td>\n",
       "      <td>Amsterdam, North Holland, Netherlands</td>\n",
       "      <td>NaN</td>\n",
       "      <td>NaN</td>\n",
       "      <td>Amsterdam</td>\n",
       "    </tr>\n",
       "  </tbody>\n",
       "</table>\n",
       "<p>20 rows × 35 columns</p>\n",
       "</div>"
      ],
      "text/plain": [
       "       id                                               name  host_id  \\\n",
       "0    2818           Quiet Garden View Room & Super Fast WiFi     3159   \n",
       "1    3209                  Quiet apt near center, great view     3806   \n",
       "2   20168         100%Centre-Studio 1 Private Floor/Bathroom    59484   \n",
       "3   25428                Lovely apt in City Centre (Jordaan)    56142   \n",
       "4   27886  Romantic, stylish B&B houseboat in canal district    97647   \n",
       "5   28658                Cosy guest room near city centre -1   123414   \n",
       "6   28871                            Comfortable double room   124245   \n",
       "7   29051                            Comfortable single room   124245   \n",
       "8   31080                2-story apartment + rooftop terrace   133488   \n",
       "9   41125                  Amsterdam Center Entire Apartment   178515   \n",
       "10  42970        Comfortable room@PERFECT location + 2 bikes   187580   \n",
       "11  43980  View into park / museum district (long/short s...    65041   \n",
       "12  44129                      Luxury design with canal view   187728   \n",
       "13  44391                 Amsterdam Centre, 3-room Apartment   194779   \n",
       "14  45246                  Cozy Flat in the Jordaan (center)   200188   \n",
       "15  46386                     Cozy loft in central Amsterdam   207342   \n",
       "16  47061                   Charming apartment in old centre   211696   \n",
       "17  48076                 Amsterdam Central and lot of space   219080   \n",
       "18  49790                  Luxurous Houseboat-Great Location   227530   \n",
       "19  50515         Family Home (No drugs, smoking or parties)   231864   \n",
       "\n",
       "   host_name                           neighbourhood   latitude  longitude  \\\n",
       "0     Daniel  Oostelijk Havengebied - Indische Buurt  52.365755   4.941419   \n",
       "1    Maartje                              Westerpark  52.390225   4.873924   \n",
       "2       Alex                            Centrum-Oost  52.365087   4.893541   \n",
       "3       Joan                            Centrum-West  52.373114   4.883668   \n",
       "4       Flip                            Centrum-West  52.386727   4.892078   \n",
       "5    Michele                           Bos en Lommer  52.375342   4.857289   \n",
       "6      Edwin                            Centrum-West  52.367187   4.890918   \n",
       "7      Edwin                            Centrum-West  52.367725   4.891512   \n",
       "8     Nienke                                    Zuid  52.351321   4.848383   \n",
       "9      Fatih                            Centrum-West  52.378915   4.883205   \n",
       "10     Micha                            Centrum-West  52.367814   4.890012   \n",
       "11        Ym                                    Zuid  52.357456   4.861242   \n",
       "12     Tanya                            Centrum-West  52.380711   4.886104   \n",
       "13       Jan                            Centrum-Oost  52.370170   4.914378   \n",
       "14    George                              Westerpark  52.377676   4.876179   \n",
       "15     Joost                 De Pijp - Rivierenbuurt  52.352470   4.908254   \n",
       "16      Ivar                  De Baarsjes - Oud-West  52.367986   4.874469   \n",
       "17  Franklin                            Centrum-West  52.380420   4.894535   \n",
       "18     Klaas                  De Baarsjes - Oud-West  52.362664   4.861032   \n",
       "19     Karin                           Bos en Lommer  52.377272   4.839253   \n",
       "\n",
       "          room_type  price  minimum_nights  ...  maximum_nights  \\\n",
       "0      Private room     59               3  ...              15   \n",
       "1   Entire home/apt    160               4  ...              20   \n",
       "2   Entire home/apt     80               1  ...            1000   \n",
       "3   Entire home/apt    125              14  ...              60   \n",
       "4      Private room    150               2  ...             730   \n",
       "5      Private room     65               3  ...              15   \n",
       "6      Private room     75               2  ...            1825   \n",
       "7      Private room     55               2  ...             730   \n",
       "8   Entire home/apt    219               3  ...             365   \n",
       "9   Entire home/apt    180               3  ...              21   \n",
       "10     Private room    159               3  ...            1100   \n",
       "11  Entire home/apt    100              28  ...             365   \n",
       "12  Entire home/apt    250               2  ...            1125   \n",
       "13  Entire home/apt    200               3  ...             730   \n",
       "14  Entire home/apt    155               3  ...             365   \n",
       "15  Entire home/apt    150               3  ...            1825   \n",
       "16  Entire home/apt    140               2  ...              60   \n",
       "17  Entire home/apt    350               5  ...              30   \n",
       "18  Entire home/apt    225               3  ...             365   \n",
       "19  Entire home/apt    120               3  ...              15   \n",
       "\n",
       "                           listing_url  host_is_superhost  \\\n",
       "0    https://www.airbnb.com/rooms/2818                  t   \n",
       "1    https://www.airbnb.com/rooms/3209                  f   \n",
       "2   https://www.airbnb.com/rooms/20168                  f   \n",
       "3   https://www.airbnb.com/rooms/25428                  f   \n",
       "4   https://www.airbnb.com/rooms/27886                  t   \n",
       "5   https://www.airbnb.com/rooms/28658                  f   \n",
       "6   https://www.airbnb.com/rooms/28871                  t   \n",
       "7   https://www.airbnb.com/rooms/29051                  t   \n",
       "8   https://www.airbnb.com/rooms/31080                  f   \n",
       "9   https://www.airbnb.com/rooms/41125                  f   \n",
       "10  https://www.airbnb.com/rooms/42970                  t   \n",
       "11  https://www.airbnb.com/rooms/43980                  f   \n",
       "12  https://www.airbnb.com/rooms/44129                  t   \n",
       "13  https://www.airbnb.com/rooms/44391                  f   \n",
       "14  https://www.airbnb.com/rooms/45246                  f   \n",
       "15  https://www.airbnb.com/rooms/46386                  f   \n",
       "16  https://www.airbnb.com/rooms/47061                  f   \n",
       "17  https://www.airbnb.com/rooms/48076                  t   \n",
       "18  https://www.airbnb.com/rooms/49790                  f   \n",
       "19  https://www.airbnb.com/rooms/50515                  f   \n",
       "\n",
       "                                           host_about  host_response_time  \\\n",
       "0   Upon arriving in Amsterdam, one can imagine as...      within an hour   \n",
       "1   I am a freelance radio producer and journalist...      within an hour   \n",
       "2   Secondary phone nr. + (Phone number hidden by ...  within a few hours   \n",
       "3   We are a retired couple who live in NYC, and h...  within a few hours   \n",
       "4   Marjan works in \"eye\" the dutch filmmuseum, an...      within an hour   \n",
       "5   I'm Italian (from Sardinia) , I live in Amster...      within an hour   \n",
       "6                                                  Hi      within an hour   \n",
       "7                                                  Hi      within an hour   \n",
       "8   (Hidden by Airbnb) Likes:\\r\\nOrishas, Manu Cha...  a few days or more   \n",
       "9   (Hidden by Airbnb) Likes:\\r\\nMichael Jackson, ...  within a few hours   \n",
       "10  Hi!\\r\\n\\r\\nI am Micha. I am running my place, ...      within an hour   \n",
       "11  I am Art and language interested, educated in ...  within a few hours   \n",
       "12  I am little bit of a nomad. Born in Belarus, r...        within a day   \n",
       "13  Love to travel while hosting and to host while...      within an hour   \n",
       "14  Hallo I am  George a  Canadian Young and a Pro...      within an hour   \n",
       "15  Dutch Physician (Cosmetic doctor) living and w...                 NaN   \n",
       "16  Hi, I am a freelance theatre director and comp...      within an hour   \n",
       "17  'Hello, I'm Franklin. I look forward to hearin...      within an hour   \n",
       "18  hi\\r\\nIf you want a real comfortable stay, on ...      within an hour   \n",
       "19  My name is Karin I'm an English teacher in Ams...        within a day   \n",
       "\n",
       "   host_response_rate                                 street weekly_price  \\\n",
       "0               100.0  Amsterdam, North Holland, Netherlands          NaN   \n",
       "1               100.0  Amsterdam, Noord-Holland, Netherlands      $543.00   \n",
       "2               100.0  Amsterdam, North Holland, Netherlands          NaN   \n",
       "3               100.0  Amsterdam, North Holland, Netherlands      $650.00   \n",
       "4               100.0  Amsterdam, North Holland, Netherlands      $810.00   \n",
       "5               100.0  Amsterdam, Noord-Holland, Netherlands          NaN   \n",
       "6               100.0  Amsterdam, North Holland, Netherlands      $499.00   \n",
       "7               100.0  Amsterdam, North Holland, Netherlands      $350.00   \n",
       "8                 0.0  Amsterdam, North Holland, Netherlands    $1,400.00   \n",
       "9               100.0  Amsterdam, North Holland, Netherlands      $650.00   \n",
       "10              100.0  Amsterdam, North Holland, Netherlands          NaN   \n",
       "11              100.0  Amsterdam, North Holland, Netherlands      $680.00   \n",
       "12               91.0  Amsterdam, North Holland, Netherlands          NaN   \n",
       "13              100.0  Amsterdam, Noord-Holland, Netherlands          NaN   \n",
       "14              100.0  Amsterdam, North Holland, Netherlands      $900.00   \n",
       "15                NaN  Amsterdam, North Holland, Netherlands          NaN   \n",
       "16              100.0  Amsterdam, North Holland, Netherlands      $720.00   \n",
       "17               80.0  Amsterdam, North Holland, Netherlands          NaN   \n",
       "18              100.0  Amsterdam, North Holland, Netherlands    $1,250.00   \n",
       "19               67.0  Amsterdam, North Holland, Netherlands          NaN   \n",
       "\n",
       "    monthly_price     market  \n",
       "0       $1,500.00  Amsterdam  \n",
       "1       $2,000.00  Amsterdam  \n",
       "2             NaN  Amsterdam  \n",
       "3       $2,000.00  Amsterdam  \n",
       "4       $2,500.00  Amsterdam  \n",
       "5             NaN  Amsterdam  \n",
       "6       $1,956.00  Amsterdam  \n",
       "7       $1,435.00  Amsterdam  \n",
       "8       $4,000.00  Amsterdam  \n",
       "9       $1,600.00  Amsterdam  \n",
       "10      $3,000.00  Amsterdam  \n",
       "11      $1,250.00  Amsterdam  \n",
       "12            NaN  Amsterdam  \n",
       "13            NaN  Amsterdam  \n",
       "14            NaN  Amsterdam  \n",
       "15            NaN  Amsterdam  \n",
       "16      $2,200.00  Amsterdam  \n",
       "17            NaN  Amsterdam  \n",
       "18      $3,750.00  Amsterdam  \n",
       "19            NaN  Amsterdam  \n",
       "\n",
       "[20 rows x 35 columns]"
      ]
     },
     "execution_count": 6,
     "metadata": {},
     "output_type": "execute_result"
    }
   ],
   "source": [
    "listings_merge.head(20)"
   ]
  },
  {
   "cell_type": "code",
   "execution_count": 7,
   "id": "9611e1db",
   "metadata": {},
   "outputs": [
    {
     "data": {
      "text/plain": [
       "(20030, 35)"
      ]
     },
     "execution_count": 7,
     "metadata": {},
     "output_type": "execute_result"
    }
   ],
   "source": [
    "listings_merge.shape"
   ]
  },
  {
   "cell_type": "markdown",
   "id": "0eaf95b8",
   "metadata": {},
   "source": [
    "##### Missing values"
   ]
  },
  {
   "cell_type": "code",
   "execution_count": 8,
   "id": "993e8555",
   "metadata": {
    "scrolled": true
   },
   "outputs": [
    {
     "data": {
      "text/plain": [
       "id                                    0\n",
       "name                                  0\n",
       "host_id                               0\n",
       "host_name                             0\n",
       "neighbourhood                         0\n",
       "latitude                              0\n",
       "longitude                             0\n",
       "room_type                             0\n",
       "price                                 0\n",
       "minimum_nights                        0\n",
       "number_of_reviews                     0\n",
       "last_review                           0\n",
       "reviews_per_month                     0\n",
       "calculated_host_listings_count        0\n",
       "availability_365                      0\n",
       "property_type                         0\n",
       "accommodates                          0\n",
       "first_review                       2406\n",
       "review_scores_value                2659\n",
       "review_scores_cleanliness          2647\n",
       "review_scores_location             2660\n",
       "review_scores_accuracy             2649\n",
       "review_scores_communication        2652\n",
       "review_scores_checkin              2661\n",
       "review_scores_rating               2639\n",
       "maximum_nights                        0\n",
       "listing_url                           0\n",
       "host_is_superhost                     4\n",
       "host_about                         8227\n",
       "host_response_time                 9483\n",
       "host_response_rate                 9483\n",
       "street                                0\n",
       "weekly_price                      17187\n",
       "monthly_price                     18469\n",
       "market                               42\n",
       "dtype: int64"
      ]
     },
     "execution_count": 8,
     "metadata": {},
     "output_type": "execute_result"
    }
   ],
   "source": [
    "# Check for missing values\n",
    "\n",
    "listings_merge.isnull().sum()"
   ]
  },
  {
   "cell_type": "markdown",
   "id": "1e92758b",
   "metadata": {},
   "source": [
    "##### Drop values"
   ]
  },
  {
   "cell_type": "code",
   "execution_count": 9,
   "id": "5962e7b4",
   "metadata": {},
   "outputs": [],
   "source": [
    "# drop the review scores since I will not be testing for this\n",
    "\n",
    "listings_merge = listings_merge.drop(columns = ['first_review', 'review_scores_value', 'review_scores_cleanliness', 'review_scores_location', 'review_scores_accuracy', 'review_scores_communication', 'review_scores_checkin', 'review_scores_rating'])"
   ]
  },
  {
   "cell_type": "code",
   "execution_count": 10,
   "id": "86324e8a",
   "metadata": {
    "scrolled": true
   },
   "outputs": [
    {
     "data": {
      "text/plain": [
       "id                                    0\n",
       "name                                  0\n",
       "host_id                               0\n",
       "host_name                             0\n",
       "neighbourhood                         0\n",
       "latitude                              0\n",
       "longitude                             0\n",
       "room_type                             0\n",
       "price                                 0\n",
       "minimum_nights                        0\n",
       "number_of_reviews                     0\n",
       "last_review                           0\n",
       "reviews_per_month                     0\n",
       "calculated_host_listings_count        0\n",
       "availability_365                      0\n",
       "property_type                         0\n",
       "accommodates                          0\n",
       "maximum_nights                        0\n",
       "listing_url                           0\n",
       "host_is_superhost                     4\n",
       "host_about                         8227\n",
       "host_response_time                 9483\n",
       "host_response_rate                 9483\n",
       "street                                0\n",
       "weekly_price                      17187\n",
       "monthly_price                     18469\n",
       "market                               42\n",
       "dtype: int64"
      ]
     },
     "execution_count": 10,
     "metadata": {},
     "output_type": "execute_result"
    }
   ],
   "source": [
    "listings_merge.isnull().sum()"
   ]
  },
  {
   "cell_type": "markdown",
   "id": "095cd120",
   "metadata": {},
   "source": [
    "##### Duplicates check"
   ]
  },
  {
   "cell_type": "code",
   "execution_count": 15,
   "id": "0815d973",
   "metadata": {},
   "outputs": [],
   "source": [
    "dups = listings_merge.duplicated()"
   ]
  },
  {
   "cell_type": "code",
   "execution_count": 16,
   "id": "099baf0e",
   "metadata": {},
   "outputs": [
    {
     "data": {
      "text/plain": [
       "(20030,)"
      ]
     },
     "execution_count": 16,
     "metadata": {},
     "output_type": "execute_result"
    }
   ],
   "source": [
    "dups.shape\n",
    "\n",
    "# No duplications"
   ]
  },
  {
   "cell_type": "markdown",
   "id": "7c9e6e04",
   "metadata": {},
   "source": [
    "##### Extreme values checks"
   ]
  },
  {
   "cell_type": "code",
   "execution_count": 17,
   "id": "3124bf2f",
   "metadata": {},
   "outputs": [
    {
     "name": "stderr",
     "output_type": "stream",
     "text": [
      "C:\\Users\\H539822\\AppData\\Local\\Temp\\ipykernel_13480\\3190738691.py:1: UserWarning: \n",
      "\n",
      "`distplot` is a deprecated function and will be removed in seaborn v0.14.0.\n",
      "\n",
      "Please adapt your code to use either `displot` (a figure-level function with\n",
      "similar flexibility) or `histplot` (an axes-level function for histograms).\n",
      "\n",
      "For a guide to updating your code to use the new functions, please see\n",
      "https://gist.github.com/mwaskom/de44147ed2974457ad6372750bbe5751\n",
      "\n",
      "  sns.distplot(listings_merge['price'], bins=25) # Shows extreme values\n"
     ]
    },
    {
     "data": {
      "text/plain": [
       "<Axes: xlabel='price', ylabel='Density'>"
      ]
     },
     "execution_count": 17,
     "metadata": {},
     "output_type": "execute_result"
    },
    {
     "data": {
      "image/png": "[encoded data removed]",
      "text/plain": [
       "<Figure size 640x480 with 1 Axes>"
      ]
     },
     "metadata": {},
     "output_type": "display_data"
    }
   ],
   "source": [
    "sns.distplot(listings_merge['price'], bins=25) # Shows extreme values"
   ]
  },
  {
   "cell_type": "code",
   "execution_count": 18,
   "id": "12f4c18e",
   "metadata": {},
   "outputs": [
    {
     "data": {
      "text/plain": [
       "152.18117823265104"
      ]
     },
     "execution_count": 18,
     "metadata": {},
     "output_type": "execute_result"
    }
   ],
   "source": [
    "listings_merge['price'].mean() # Check the mean"
   ]
  },
  {
   "cell_type": "code",
   "execution_count": 20,
   "id": "7be6fc96",
   "metadata": {},
   "outputs": [
    {
     "data": {
      "text/plain": [
       "125.0"
      ]
     },
     "execution_count": 20,
     "metadata": {},
     "output_type": "execute_result"
    }
   ],
   "source": [
    "listings_merge['price'].median() # Check the median"
   ]
  },
  {
   "cell_type": "code",
   "execution_count": 22,
   "id": "b60da0e9",
   "metadata": {},
   "outputs": [
    {
     "data": {
      "text/plain": [
       "8500"
      ]
     },
     "execution_count": 22,
     "metadata": {},
     "output_type": "execute_result"
    }
   ],
   "source": [
    "listings_merge['price'].max() # Check the max"
   ]
  },
  {
   "cell_type": "markdown",
   "id": "434de731",
   "metadata": {},
   "source": [
    "### 3. Data prep for regression analysis "
   ]
  },
  {
   "cell_type": "markdown",
   "id": "1f768319",
   "metadata": {},
   "source": [
    "### 3. Hypotheses"
   ]
  },
  {
   "cell_type": "markdown",
   "id": "8289ca90",
   "metadata": {},
   "source": [
    "* A) The more people a listing accommodates, the higher the price."
   ]
  },
  {
   "cell_type": "code",
   "execution_count": 31,
   "id": "585bb64c",
   "metadata": {},
   "outputs": [
    {
     "data": {
      "image/png": "[encoded data removed]",
      "text/plain": [
       "<Figure size 640x480 with 1 Axes>"
      ]
     },
     "metadata": {},
     "output_type": "display_data"
    }
   ],
   "source": [
    "# Create a scatterplot using matplotlib for another look at how the chosen variables plot against each other.\n",
    "\n",
    "listings_merge.plot(x = 'accommodates', y='price',style='o') # The style option creates a scatterplot; without it, we only have lines.\n",
    "plt.title('Neighbourhood vs Price')  \n",
    "plt.xlabel('accommodates')  \n",
    "plt.ylabel('price')  \n",
    "plt.show()"
   ]
  },
  {
   "cell_type": "code",
   "execution_count": 32,
   "id": "e679c078",
   "metadata": {},
   "outputs": [],
   "source": [
    "# Reshape the variables into NumPy arrays and put them into separate objects.\n",
    "\n",
    "X = listings_merge['accommodates'].values.reshape(-1,1)\n",
    "y = listings_merge['price'].values.reshape(-1,1)"
   ]
  },
  {
   "cell_type": "code",
   "execution_count": 33,
   "id": "35bb3787",
   "metadata": {},
   "outputs": [
    {
     "data": {
      "text/plain": [
       "array([[2],\n",
       "       [5],\n",
       "       [2],\n",
       "       ...,\n",
       "       [2],\n",
       "       [2],\n",
       "       [4]], dtype=int64)"
      ]
     },
     "execution_count": 33,
     "metadata": {},
     "output_type": "execute_result"
    }
   ],
   "source": [
    "X"
   ]
  },
  {
   "cell_type": "code",
   "execution_count": 34,
   "id": "831156c5",
   "metadata": {},
   "outputs": [
    {
     "data": {
      "text/plain": [
       "array([[ 59],\n",
       "       [160],\n",
       "       [ 80],\n",
       "       ...,\n",
       "       [ 80],\n",
       "       [ 55],\n",
       "       [220]], dtype=int64)"
      ]
     },
     "execution_count": 34,
     "metadata": {},
     "output_type": "execute_result"
    }
   ],
   "source": [
    "y"
   ]
  },
  {
   "cell_type": "code",
   "execution_count": 35,
   "id": "4310ed78",
   "metadata": {},
   "outputs": [],
   "source": [
    "# Split data into a training set and a test set.\n",
    "\n",
    "X_train, X_test, y_train, y_test = train_test_split(X, y, test_size=0.3, random_state=0)\n",
    "\n",
    "# The test_size = 0.3 argument within the function is specifying that the test set should comprise 30 percent of \n",
    "# the data (thus making the training set 70 percent of the data)."
   ]
  },
  {
   "cell_type": "markdown",
   "id": "624594b8",
   "metadata": {},
   "source": [
    "### 4. Regression analysis"
   ]
  },
  {
   "cell_type": "code",
   "execution_count": 36,
   "id": "8d7c3096",
   "metadata": {},
   "outputs": [],
   "source": [
    "# Create a regression object.\n",
    "\n",
    "regression = LinearRegression()  # This is the regression object, which will be fit onto the training set."
   ]
  },
  {
   "cell_type": "code",
   "execution_count": 37,
   "id": "7eff3c20",
   "metadata": {},
   "outputs": [
    {
     "data": {
      "text/html": [
       "<style>#sk-container-id-1 {color: black;background-color: white;}#sk-container-id-1 pre{padding: 0;}#sk-container-id-1 div.sk-toggleable {background-color: white;}#sk-container-id-1 label.sk-toggleable__label {cursor: pointer;display: block;width: 100%;margin-bottom: 0;padding: 0.3em;box-sizing: border-box;text-align: center;}#sk-container-id-1 label.sk-toggleable__label-arrow:before {content: \"▸\";float: left;margin-right: 0.25em;color: #696969;}#sk-container-id-1 label.sk-toggleable__label-arrow:hover:before {color: black;}#sk-container-id-1 div.sk-estimator:hover label.sk-toggleable__label-arrow:before {color: black;}#sk-container-id-1 div.sk-toggleable__content {max-height: 0;max-width: 0;overflow: hidden;text-align: left;background-color: #f0f8ff;}#sk-container-id-1 div.sk-toggleable__content pre {margin: 0.2em;color: black;border-radius: 0.25em;background-color: #f0f8ff;}#sk-container-id-1 input.sk-toggleable__control:checked~div.sk-toggleable__content {max-height: 200px;max-width: 100%;overflow: auto;}#sk-container-id-1 input.sk-toggleable__control:checked~label.sk-toggleable__label-arrow:before {content: \"▾\";}#sk-container-id-1 div.sk-estimator input.sk-toggleable__control:checked~label.sk-toggleable__label {background-color: #d4ebff;}#sk-container-id-1 div.sk-label input.sk-toggleable__control:checked~label.sk-toggleable__label {background-color: #d4ebff;}#sk-container-id-1 input.sk-hidden--visually {border: 0;clip: rect(1px 1px 1px 1px);clip: rect(1px, 1px, 1px, 1px);height: 1px;margin: -1px;overflow: hidden;padding: 0;position: absolute;width: 1px;}#sk-container-id-1 div.sk-estimator {font-family: monospace;background-color: #f0f8ff;border: 1px dotted black;border-radius: 0.25em;box-sizing: border-box;margin-bottom: 0.5em;}#sk-container-id-1 div.sk-estimator:hover {background-color: #d4ebff;}#sk-container-id-1 div.sk-parallel-item::after {content: \"\";width: 100%;border-bottom: 1px solid gray;flex-grow: 1;}#sk-container-id-1 div.sk-label:hover label.sk-toggleable__label {background-color: #d4ebff;}#sk-container-id-1 div.sk-serial::before {content: \"\";position: absolute;border-left: 1px solid gray;box-sizing: border-box;top: 0;bottom: 0;left: 50%;z-index: 0;}#sk-container-id-1 div.sk-serial {display: flex;flex-direction: column;align-items: center;background-color: white;padding-right: 0.2em;padding-left: 0.2em;position: relative;}#sk-container-id-1 div.sk-item {position: relative;z-index: 1;}#sk-container-id-1 div.sk-parallel {display: flex;align-items: stretch;justify-content: center;background-color: white;position: relative;}#sk-container-id-1 div.sk-item::before, #sk-container-id-1 div.sk-parallel-item::before {content: \"\";position: absolute;border-left: 1px solid gray;box-sizing: border-box;top: 0;bottom: 0;left: 50%;z-index: -1;}#sk-container-id-1 div.sk-parallel-item {display: flex;flex-direction: column;z-index: 1;position: relative;background-color: white;}#sk-container-id-1 div.sk-parallel-item:first-child::after {align-self: flex-end;width: 50%;}#sk-container-id-1 div.sk-parallel-item:last-child::after {align-self: flex-start;width: 50%;}#sk-container-id-1 div.sk-parallel-item:only-child::after {width: 0;}#sk-container-id-1 div.sk-dashed-wrapped {border: 1px dashed gray;margin: 0 0.4em 0.5em 0.4em;box-sizing: border-box;padding-bottom: 0.4em;background-color: white;}#sk-container-id-1 div.sk-label label {font-family: monospace;font-weight: bold;display: inline-block;line-height: 1.2em;}#sk-container-id-1 div.sk-label-container {text-align: center;}#sk-container-id-1 div.sk-container {/* jupyter's `normalize.less` sets `[hidden] { display: none; }` but bootstrap.min.css set `[hidden] { display: none !important; }` so we also need the `!important` here to be able to override the default hidden behavior on the sphinx rendered scikit-learn.org. See: https://github.com/scikit-learn/scikit-learn/issues/21755 */display: inline-block !important;position: relative;}#sk-container-id-1 div.sk-text-repr-fallback {display: none;}</style><div id=\"sk-container-id-1\" class=\"sk-top-container\"><div class=\"sk-text-repr-fallback\"><pre>LinearRegression()</pre><b>In a Jupyter environment, please rerun this cell to show the HTML representation or trust the notebook. <br />On GitHub, the HTML representation is unable to render, please try loading this page with nbviewer.org.</b></div><div class=\"sk-container\" hidden><div class=\"sk-item\"><div class=\"sk-estimator sk-toggleable\"><input class=\"sk-toggleable__control sk-hidden--visually\" id=\"sk-estimator-id-1\" type=\"checkbox\" checked><label for=\"sk-estimator-id-1\" class=\"sk-toggleable__label sk-toggleable__label-arrow\">LinearRegression</label><div class=\"sk-toggleable__content\"><pre>LinearRegression()</pre></div></div></div></div></div>"
      ],
      "text/plain": [
       "LinearRegression()"
      ]
     },
     "execution_count": 37,
     "metadata": {},
     "output_type": "execute_result"
    }
   ],
   "source": [
    "# Fit the regression object onto the training set.\n",
    "\n",
    "regression.fit(X_train, y_train)\n",
    "\n",
    "# You then fill it up with your training data using the fit() function. This employs the equation you saw in the \n",
    "# previous section for calculating the regression line, which is passed through the given data points. \n",
    "# By doing so, you’re training the model."
   ]
  },
  {
   "cell_type": "code",
   "execution_count": 38,
   "id": "3579359c",
   "metadata": {},
   "outputs": [],
   "source": [
    "# Predict the values of y using X.\n",
    "\n",
    "y_predicted = regression.predict(X_test)"
   ]
  },
  {
   "cell_type": "code",
   "execution_count": 39,
   "id": "e418758b",
   "metadata": {},
   "outputs": [
    {
     "data": {
      "image/png": "[encoded data removed]",
      "text/plain": [
       "<Figure size 640x480 with 1 Axes>"
      ]
     },
     "metadata": {},
     "output_type": "display_data"
    }
   ],
   "source": [
    "# Create a plot that shows the regression line from the model on the test set.\n",
    "\n",
    "plot_test = plt\n",
    "plot_test.scatter(X_test, y_test, color='black', s = 15)\n",
    "plot_test.plot(X_test, y_predicted, color='red', linewidth = 3)\n",
    "plot_test.title('Accommodates vs Price (Test set)')\n",
    "plot_test.xlabel('Accommodates')\n",
    "plot_test.ylabel('Price')\n",
    "plot_test.show()"
   ]
  },
  {
   "cell_type": "code",
   "execution_count": 41,
   "id": "5a1fedfe",
   "metadata": {},
   "outputs": [],
   "source": [
    "# The red line is your regression line\n",
    "# You can see immediately that the linear model represented by the red regression line doesn’t perfectly cover all \n",
    "# of your data points, which contradicts your hypothesis."
   ]
  },
  {
   "cell_type": "code",
   "execution_count": 42,
   "id": "dcb61ab5",
   "metadata": {},
   "outputs": [],
   "source": [
    "# Create objects that contain the model summary statistics.\n",
    "\n",
    "rmse = mean_squared_error(y_test, y_predicted) # This is the mean squared error\n",
    "r2 = r2_score(y_test, y_predicted) # This is the R2 score. "
   ]
  },
  {
   "cell_type": "code",
   "execution_count": 43,
   "id": "385bbe60",
   "metadata": {},
   "outputs": [
    {
     "name": "stdout",
     "output_type": "stream",
     "text": [
      "Slope: [[39.23825689]]\n",
      "Mean squared error:  27080.832156248132\n",
      "R2 score:  0.09109472288808362\n"
     ]
    }
   ],
   "source": [
    "print('Slope:',regression.coef_)\n",
    "print('Mean squared error: ', rmse)\n",
    "print('R2 score: ', r2)\n",
    "\n",
    "# The slope here means that as X rises (as number of people the property is accommodates), \n",
    "# y increases (the price) at a degree of 39.24.\n",
    "\n",
    "# The MSE is quite large at 27080.83. From this, it’s safe to say that a regression may not \n",
    "# be the best model to represent this data and can’t accurately predict the influence of number of people \n",
    "# a property accommodates to the price going up.\n",
    "\n",
    "# The R2 score for your model is 0.091. You can think of this as a percentage out of one hundred, or 9.1 percent. \n",
    "# Since 9.1 percent out of one hundred is not that great, this means that your model, well, isn’t that great of a fit either."
   ]
  },
  {
   "cell_type": "code",
   "execution_count": 44,
   "id": "1324ee0f",
   "metadata": {},
   "outputs": [
    {
     "data": {
      "text/plain": [
       "array([[194.90809294],\n",
       "       [194.90809294],\n",
       "       [194.90809294],\n",
       "       ...,\n",
       "       [116.43157916],\n",
       "       [116.43157916],\n",
       "       [ 77.19332228]])"
      ]
     },
     "execution_count": 44,
     "metadata": {},
     "output_type": "execute_result"
    }
   ],
   "source": [
    "y_predicted"
   ]
  },
  {
   "cell_type": "code",
   "execution_count": 45,
   "id": "e5ff653c",
   "metadata": {},
   "outputs": [
    {
     "data": {
      "text/html": [
       "<div>\n",
       "<style scoped>\n",
       "    .dataframe tbody tr th:only-of-type {\n",
       "        vertical-align: middle;\n",
       "    }\n",
       "\n",
       "    .dataframe tbody tr th {\n",
       "        vertical-align: top;\n",
       "    }\n",
       "\n",
       "    .dataframe thead th {\n",
       "        text-align: right;\n",
       "    }\n",
       "</style>\n",
       "<table border=\"1\" class=\"dataframe\">\n",
       "  <thead>\n",
       "    <tr style=\"text-align: right;\">\n",
       "      <th></th>\n",
       "      <th>Actual</th>\n",
       "      <th>Predicted</th>\n",
       "    </tr>\n",
       "  </thead>\n",
       "  <tbody>\n",
       "    <tr>\n",
       "      <th>0</th>\n",
       "      <td>150</td>\n",
       "      <td>194.908093</td>\n",
       "    </tr>\n",
       "    <tr>\n",
       "      <th>1</th>\n",
       "      <td>140</td>\n",
       "      <td>194.908093</td>\n",
       "    </tr>\n",
       "    <tr>\n",
       "      <th>2</th>\n",
       "      <td>150</td>\n",
       "      <td>194.908093</td>\n",
       "    </tr>\n",
       "    <tr>\n",
       "      <th>3</th>\n",
       "      <td>80</td>\n",
       "      <td>116.431579</td>\n",
       "    </tr>\n",
       "    <tr>\n",
       "      <th>4</th>\n",
       "      <td>130</td>\n",
       "      <td>116.431579</td>\n",
       "    </tr>\n",
       "    <tr>\n",
       "      <th>5</th>\n",
       "      <td>105</td>\n",
       "      <td>194.908093</td>\n",
       "    </tr>\n",
       "    <tr>\n",
       "      <th>6</th>\n",
       "      <td>50</td>\n",
       "      <td>77.193322</td>\n",
       "    </tr>\n",
       "    <tr>\n",
       "      <th>7</th>\n",
       "      <td>100</td>\n",
       "      <td>116.431579</td>\n",
       "    </tr>\n",
       "    <tr>\n",
       "      <th>8</th>\n",
       "      <td>115</td>\n",
       "      <td>116.431579</td>\n",
       "    </tr>\n",
       "    <tr>\n",
       "      <th>9</th>\n",
       "      <td>89</td>\n",
       "      <td>116.431579</td>\n",
       "    </tr>\n",
       "    <tr>\n",
       "      <th>10</th>\n",
       "      <td>450</td>\n",
       "      <td>194.908093</td>\n",
       "    </tr>\n",
       "    <tr>\n",
       "      <th>11</th>\n",
       "      <td>350</td>\n",
       "      <td>194.908093</td>\n",
       "    </tr>\n",
       "    <tr>\n",
       "      <th>12</th>\n",
       "      <td>175</td>\n",
       "      <td>155.669836</td>\n",
       "    </tr>\n",
       "    <tr>\n",
       "      <th>13</th>\n",
       "      <td>100</td>\n",
       "      <td>194.908093</td>\n",
       "    </tr>\n",
       "    <tr>\n",
       "      <th>14</th>\n",
       "      <td>100</td>\n",
       "      <td>155.669836</td>\n",
       "    </tr>\n",
       "    <tr>\n",
       "      <th>15</th>\n",
       "      <td>79</td>\n",
       "      <td>116.431579</td>\n",
       "    </tr>\n",
       "    <tr>\n",
       "      <th>16</th>\n",
       "      <td>100</td>\n",
       "      <td>155.669836</td>\n",
       "    </tr>\n",
       "    <tr>\n",
       "      <th>17</th>\n",
       "      <td>49</td>\n",
       "      <td>116.431579</td>\n",
       "    </tr>\n",
       "    <tr>\n",
       "      <th>18</th>\n",
       "      <td>150</td>\n",
       "      <td>116.431579</td>\n",
       "    </tr>\n",
       "    <tr>\n",
       "      <th>19</th>\n",
       "      <td>475</td>\n",
       "      <td>273.384607</td>\n",
       "    </tr>\n",
       "    <tr>\n",
       "      <th>20</th>\n",
       "      <td>80</td>\n",
       "      <td>116.431579</td>\n",
       "    </tr>\n",
       "    <tr>\n",
       "      <th>21</th>\n",
       "      <td>100</td>\n",
       "      <td>116.431579</td>\n",
       "    </tr>\n",
       "    <tr>\n",
       "      <th>22</th>\n",
       "      <td>250</td>\n",
       "      <td>194.908093</td>\n",
       "    </tr>\n",
       "    <tr>\n",
       "      <th>23</th>\n",
       "      <td>98</td>\n",
       "      <td>116.431579</td>\n",
       "    </tr>\n",
       "    <tr>\n",
       "      <th>24</th>\n",
       "      <td>175</td>\n",
       "      <td>116.431579</td>\n",
       "    </tr>\n",
       "    <tr>\n",
       "      <th>25</th>\n",
       "      <td>180</td>\n",
       "      <td>155.669836</td>\n",
       "    </tr>\n",
       "    <tr>\n",
       "      <th>26</th>\n",
       "      <td>125</td>\n",
       "      <td>116.431579</td>\n",
       "    </tr>\n",
       "    <tr>\n",
       "      <th>27</th>\n",
       "      <td>74</td>\n",
       "      <td>116.431579</td>\n",
       "    </tr>\n",
       "    <tr>\n",
       "      <th>28</th>\n",
       "      <td>129</td>\n",
       "      <td>116.431579</td>\n",
       "    </tr>\n",
       "    <tr>\n",
       "      <th>29</th>\n",
       "      <td>75</td>\n",
       "      <td>116.431579</td>\n",
       "    </tr>\n",
       "  </tbody>\n",
       "</table>\n",
       "</div>"
      ],
      "text/plain": [
       "    Actual   Predicted\n",
       "0      150  194.908093\n",
       "1      140  194.908093\n",
       "2      150  194.908093\n",
       "3       80  116.431579\n",
       "4      130  116.431579\n",
       "5      105  194.908093\n",
       "6       50   77.193322\n",
       "7      100  116.431579\n",
       "8      115  116.431579\n",
       "9       89  116.431579\n",
       "10     450  194.908093\n",
       "11     350  194.908093\n",
       "12     175  155.669836\n",
       "13     100  194.908093\n",
       "14     100  155.669836\n",
       "15      79  116.431579\n",
       "16     100  155.669836\n",
       "17      49  116.431579\n",
       "18     150  116.431579\n",
       "19     475  273.384607\n",
       "20      80  116.431579\n",
       "21     100  116.431579\n",
       "22     250  194.908093\n",
       "23      98  116.431579\n",
       "24     175  116.431579\n",
       "25     180  155.669836\n",
       "26     125  116.431579\n",
       "27      74  116.431579\n",
       "28     129  116.431579\n",
       "29      75  116.431579"
      ]
     },
     "execution_count": 45,
     "metadata": {},
     "output_type": "execute_result"
    }
   ],
   "source": [
    "# Create a dataframe comparing the actual and predicted values of y.\n",
    "\n",
    "listings_merge = pd.DataFrame({'Actual': y_test.flatten(), 'Predicted': y_predicted.flatten()})\n",
    "listings_merge.head(30)"
   ]
  },
  {
   "cell_type": "markdown",
   "id": "a2a416ca",
   "metadata": {},
   "source": [
    "##### Compare how the regression fits the training set"
   ]
  },
  {
   "cell_type": "code",
   "execution_count": 46,
   "id": "4973118b",
   "metadata": {},
   "outputs": [],
   "source": [
    "# Predict.\n",
    "\n",
    "y_predicted_train = regression.predict(X_train) # This is predicting X_train!"
   ]
  },
  {
   "cell_type": "code",
   "execution_count": 47,
   "id": "d3131d07",
   "metadata": {},
   "outputs": [],
   "source": [
    "rmse = mean_squared_error(y_train, y_predicted_train)\n",
    "r2 = r2_score(y_train, y_predicted_train)"
   ]
  },
  {
   "cell_type": "code",
   "execution_count": 48,
   "id": "00ee91d6",
   "metadata": {},
   "outputs": [
    {
     "name": "stdout",
     "output_type": "stream",
     "text": [
      "Slope: [[39.23825689]]\n",
      "Mean squared error:  14911.627825882833\n",
      "R2 score:  0.1530956195293287\n"
     ]
    }
   ],
   "source": [
    "print('Slope:' ,regression.coef_)\n",
    "print('Mean squared error: ', rmse)\n",
    "print('R2 score: ', r2)"
   ]
  },
  {
   "cell_type": "code",
   "execution_count": 49,
   "id": "b4c94676",
   "metadata": {},
   "outputs": [
    {
     "data": {
      "image/png": "[encoded data removed]",
      "text/plain": [
       "<Figure size 640x480 with 1 Axes>"
      ]
     },
     "metadata": {},
     "output_type": "display_data"
    }
   ],
   "source": [
    "# Visualizing the training set results.\n",
    "\n",
    "plot_test = plt\n",
    "plot_test.scatter(X_train, y_train, color='green', s = 15)\n",
    "plot_test.plot(X_train, y_predicted_train, color='red', linewidth =3)\n",
    "plot_test.title('Accommodates vs Price (Train set)')\n",
    "plot_test.xlabel('Accommodates')\n",
    "plot_test.ylabel('Price')\n",
    "plot_test.show()\n",
    "\n",
    "# A bit better R2 socre but must need another technique to really understanding what is going here."
   ]
  }
 ],
 "metadata": {
  "kernelspec": {
   "display_name": "Python 3 (ipykernel)",
   "language": "python",
   "name": "python3"
  },
  "language_info": {
   "codemirror_mode": {
    "name": "ipython",
    "version": 3
   },
   "file_extension": ".py",
   "mimetype": "text/x-python",
   "name": "python",
   "nbconvert_exporter": "python",
   "pygments_lexer": "ipython3",
   "version": "3.10.9"
  }
 },
 "nbformat": 4,
 "nbformat_minor": 5
}
